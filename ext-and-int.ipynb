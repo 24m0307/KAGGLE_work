{
 "cells": [
  {
   "cell_type": "code",
   "execution_count": 1,
   "id": "f898f003",
   "metadata": {
    "execution": {
     "iopub.execute_input": "2025-07-02T12:00:42.648341Z",
     "iopub.status.busy": "2025-07-02T12:00:42.648014Z",
     "iopub.status.idle": "2025-07-02T12:00:44.671507Z",
     "shell.execute_reply": "2025-07-02T12:00:44.670505Z"
    },
    "papermill": {
     "duration": 2.037969,
     "end_time": "2025-07-02T12:00:44.673318",
     "exception": false,
     "start_time": "2025-07-02T12:00:42.635349",
     "status": "completed"
    },
    "tags": []
   },
   "outputs": [],
   "source": [
    "import pandas as pd\n",
    "import numpy as np\n",
    "import matplotlib.pyplot as plt \n",
    "%matplotlib inline"
   ]
  },
  {
   "cell_type": "code",
   "execution_count": 2,
   "id": "af29851e",
   "metadata": {
    "execution": {
     "iopub.execute_input": "2025-07-02T12:00:44.695717Z",
     "iopub.status.busy": "2025-07-02T12:00:44.694990Z",
     "iopub.status.idle": "2025-07-02T12:00:44.786393Z",
     "shell.execute_reply": "2025-07-02T12:00:44.785411Z"
    },
    "papermill": {
     "duration": 0.104729,
     "end_time": "2025-07-02T12:00:44.787849",
     "exception": false,
     "start_time": "2025-07-02T12:00:44.683120",
     "status": "completed"
    },
    "tags": []
   },
   "outputs": [
    {
     "name": "stderr",
     "output_type": "stream",
     "text": [
      "/usr/local/lib/python3.11/dist-packages/pandas/io/formats/format.py:1458: RuntimeWarning: invalid value encountered in greater\n",
      "  has_large_values = (abs_vals > 1e6).any()\n",
      "/usr/local/lib/python3.11/dist-packages/pandas/io/formats/format.py:1459: RuntimeWarning: invalid value encountered in less\n",
      "  has_small_values = ((abs_vals < 10 ** (-self.digits)) & (abs_vals > 0)).any()\n",
      "/usr/local/lib/python3.11/dist-packages/pandas/io/formats/format.py:1459: RuntimeWarning: invalid value encountered in greater\n",
      "  has_small_values = ((abs_vals < 10 ** (-self.digits)) & (abs_vals > 0)).any()\n"
     ]
    },
    {
     "data": {
      "text/html": [
       "<div>\n",
       "<style scoped>\n",
       "    .dataframe tbody tr th:only-of-type {\n",
       "        vertical-align: middle;\n",
       "    }\n",
       "\n",
       "    .dataframe tbody tr th {\n",
       "        vertical-align: top;\n",
       "    }\n",
       "\n",
       "    .dataframe thead th {\n",
       "        text-align: right;\n",
       "    }\n",
       "</style>\n",
       "<table border=\"1\" class=\"dataframe\">\n",
       "  <thead>\n",
       "    <tr style=\"text-align: right;\">\n",
       "      <th></th>\n",
       "      <th>id</th>\n",
       "      <th>Time_spent_Alone</th>\n",
       "      <th>Stage_fear</th>\n",
       "      <th>Social_event_attendance</th>\n",
       "      <th>Going_outside</th>\n",
       "      <th>Drained_after_socializing</th>\n",
       "      <th>Friends_circle_size</th>\n",
       "      <th>Post_frequency</th>\n",
       "      <th>Personality</th>\n",
       "    </tr>\n",
       "  </thead>\n",
       "  <tbody>\n",
       "    <tr>\n",
       "      <th>0</th>\n",
       "      <td>0</td>\n",
       "      <td>0.0</td>\n",
       "      <td>No</td>\n",
       "      <td>6.0</td>\n",
       "      <td>4.0</td>\n",
       "      <td>No</td>\n",
       "      <td>15.0</td>\n",
       "      <td>5.0</td>\n",
       "      <td>Extrovert</td>\n",
       "    </tr>\n",
       "    <tr>\n",
       "      <th>1</th>\n",
       "      <td>1</td>\n",
       "      <td>1.0</td>\n",
       "      <td>No</td>\n",
       "      <td>7.0</td>\n",
       "      <td>3.0</td>\n",
       "      <td>No</td>\n",
       "      <td>10.0</td>\n",
       "      <td>8.0</td>\n",
       "      <td>Extrovert</td>\n",
       "    </tr>\n",
       "    <tr>\n",
       "      <th>2</th>\n",
       "      <td>2</td>\n",
       "      <td>6.0</td>\n",
       "      <td>Yes</td>\n",
       "      <td>1.0</td>\n",
       "      <td>0.0</td>\n",
       "      <td>NaN</td>\n",
       "      <td>3.0</td>\n",
       "      <td>0.0</td>\n",
       "      <td>Introvert</td>\n",
       "    </tr>\n",
       "    <tr>\n",
       "      <th>3</th>\n",
       "      <td>3</td>\n",
       "      <td>3.0</td>\n",
       "      <td>No</td>\n",
       "      <td>7.0</td>\n",
       "      <td>3.0</td>\n",
       "      <td>No</td>\n",
       "      <td>11.0</td>\n",
       "      <td>5.0</td>\n",
       "      <td>Extrovert</td>\n",
       "    </tr>\n",
       "    <tr>\n",
       "      <th>4</th>\n",
       "      <td>4</td>\n",
       "      <td>1.0</td>\n",
       "      <td>No</td>\n",
       "      <td>4.0</td>\n",
       "      <td>4.0</td>\n",
       "      <td>No</td>\n",
       "      <td>13.0</td>\n",
       "      <td>NaN</td>\n",
       "      <td>Extrovert</td>\n",
       "    </tr>\n",
       "  </tbody>\n",
       "</table>\n",
       "</div>"
      ],
      "text/plain": [
       "   id  Time_spent_Alone Stage_fear  Social_event_attendance  Going_outside  \\\n",
       "0   0               0.0         No                      6.0            4.0   \n",
       "1   1               1.0         No                      7.0            3.0   \n",
       "2   2               6.0        Yes                      1.0            0.0   \n",
       "3   3               3.0         No                      7.0            3.0   \n",
       "4   4               1.0         No                      4.0            4.0   \n",
       "\n",
       "  Drained_after_socializing  Friends_circle_size  Post_frequency Personality  \n",
       "0                        No                 15.0             5.0   Extrovert  \n",
       "1                        No                 10.0             8.0   Extrovert  \n",
       "2                       NaN                  3.0             0.0   Introvert  \n",
       "3                        No                 11.0             5.0   Extrovert  \n",
       "4                        No                 13.0             NaN   Extrovert  "
      ]
     },
     "execution_count": 2,
     "metadata": {},
     "output_type": "execute_result"
    }
   ],
   "source": [
    "df = pd.read_csv(\"/kaggle/input/int-and-ext/train.csv\")\n",
    "df.head()"
   ]
  },
  {
   "cell_type": "code",
   "execution_count": 3,
   "id": "35102a01",
   "metadata": {
    "execution": {
     "iopub.execute_input": "2025-07-02T12:00:44.807749Z",
     "iopub.status.busy": "2025-07-02T12:00:44.807382Z",
     "iopub.status.idle": "2025-07-02T12:00:44.818046Z",
     "shell.execute_reply": "2025-07-02T12:00:44.816996Z"
    },
    "papermill": {
     "duration": 0.022733,
     "end_time": "2025-07-02T12:00:44.819865",
     "exception": false,
     "start_time": "2025-07-02T12:00:44.797132",
     "status": "completed"
    },
    "tags": []
   },
   "outputs": [
    {
     "data": {
      "text/plain": [
       "1190"
      ]
     },
     "execution_count": 3,
     "metadata": {},
     "output_type": "execute_result"
    }
   ],
   "source": [
    "df['Time_spent_Alone'].isna().sum()"
   ]
  },
  {
   "cell_type": "code",
   "execution_count": 4,
   "id": "02677954",
   "metadata": {
    "execution": {
     "iopub.execute_input": "2025-07-02T12:00:44.840449Z",
     "iopub.status.busy": "2025-07-02T12:00:44.839859Z",
     "iopub.status.idle": "2025-07-02T12:00:44.853842Z",
     "shell.execute_reply": "2025-07-02T12:00:44.852612Z"
    },
    "papermill": {
     "duration": 0.027527,
     "end_time": "2025-07-02T12:00:44.856316",
     "exception": false,
     "start_time": "2025-07-02T12:00:44.828789",
     "status": "completed"
    },
    "tags": []
   },
   "outputs": [
    {
     "data": {
      "text/plain": [
       "id                              0\n",
       "Time_spent_Alone             1190\n",
       "Stage_fear                   1893\n",
       "Social_event_attendance      1180\n",
       "Going_outside                1466\n",
       "Drained_after_socializing    1149\n",
       "Friends_circle_size          1054\n",
       "Post_frequency               1264\n",
       "Personality                     0\n",
       "dtype: int64"
      ]
     },
     "execution_count": 4,
     "metadata": {},
     "output_type": "execute_result"
    }
   ],
   "source": [
    "df.isna().sum()"
   ]
  },
  {
   "cell_type": "code",
   "execution_count": 5,
   "id": "d80f93e8",
   "metadata": {
    "execution": {
     "iopub.execute_input": "2025-07-02T12:00:44.882097Z",
     "iopub.status.busy": "2025-07-02T12:00:44.881785Z",
     "iopub.status.idle": "2025-07-02T12:00:44.910130Z",
     "shell.execute_reply": "2025-07-02T12:00:44.909268Z"
    },
    "papermill": {
     "duration": 0.044517,
     "end_time": "2025-07-02T12:00:44.911833",
     "exception": false,
     "start_time": "2025-07-02T12:00:44.867316",
     "status": "completed"
    },
    "tags": []
   },
   "outputs": [
    {
     "name": "stdout",
     "output_type": "stream",
     "text": [
      "<class 'pandas.core.frame.DataFrame'>\n",
      "RangeIndex: 18524 entries, 0 to 18523\n",
      "Data columns (total 9 columns):\n",
      " #   Column                     Non-Null Count  Dtype  \n",
      "---  ------                     --------------  -----  \n",
      " 0   id                         18524 non-null  int64  \n",
      " 1   Time_spent_Alone           17334 non-null  float64\n",
      " 2   Stage_fear                 16631 non-null  object \n",
      " 3   Social_event_attendance    17344 non-null  float64\n",
      " 4   Going_outside              17058 non-null  float64\n",
      " 5   Drained_after_socializing  17375 non-null  object \n",
      " 6   Friends_circle_size        17470 non-null  float64\n",
      " 7   Post_frequency             17260 non-null  float64\n",
      " 8   Personality                18524 non-null  object \n",
      "dtypes: float64(5), int64(1), object(3)\n",
      "memory usage: 1.3+ MB\n"
     ]
    }
   ],
   "source": [
    "df.info()"
   ]
  },
  {
   "cell_type": "code",
   "execution_count": 6,
   "id": "53bf96ab",
   "metadata": {
    "execution": {
     "iopub.execute_input": "2025-07-02T12:00:44.942694Z",
     "iopub.status.busy": "2025-07-02T12:00:44.942368Z",
     "iopub.status.idle": "2025-07-02T12:00:44.981171Z",
     "shell.execute_reply": "2025-07-02T12:00:44.979985Z"
    },
    "papermill": {
     "duration": 0.054854,
     "end_time": "2025-07-02T12:00:44.982996",
     "exception": false,
     "start_time": "2025-07-02T12:00:44.928142",
     "status": "completed"
    },
    "tags": []
   },
   "outputs": [
    {
     "data": {
      "text/html": [
       "<div>\n",
       "<style scoped>\n",
       "    .dataframe tbody tr th:only-of-type {\n",
       "        vertical-align: middle;\n",
       "    }\n",
       "\n",
       "    .dataframe tbody tr th {\n",
       "        vertical-align: top;\n",
       "    }\n",
       "\n",
       "    .dataframe thead th {\n",
       "        text-align: right;\n",
       "    }\n",
       "</style>\n",
       "<table border=\"1\" class=\"dataframe\">\n",
       "  <thead>\n",
       "    <tr style=\"text-align: right;\">\n",
       "      <th></th>\n",
       "      <th>id</th>\n",
       "      <th>Time_spent_Alone</th>\n",
       "      <th>Social_event_attendance</th>\n",
       "      <th>Going_outside</th>\n",
       "      <th>Friends_circle_size</th>\n",
       "      <th>Post_frequency</th>\n",
       "    </tr>\n",
       "  </thead>\n",
       "  <tbody>\n",
       "    <tr>\n",
       "      <th>count</th>\n",
       "      <td>18524.000000</td>\n",
       "      <td>17334.000000</td>\n",
       "      <td>17344.000000</td>\n",
       "      <td>17058.000000</td>\n",
       "      <td>17470.000000</td>\n",
       "      <td>17260.000000</td>\n",
       "    </tr>\n",
       "    <tr>\n",
       "      <th>mean</th>\n",
       "      <td>9261.500000</td>\n",
       "      <td>3.137764</td>\n",
       "      <td>5.265106</td>\n",
       "      <td>4.044319</td>\n",
       "      <td>7.996737</td>\n",
       "      <td>4.982097</td>\n",
       "    </tr>\n",
       "    <tr>\n",
       "      <th>std</th>\n",
       "      <td>5347.562529</td>\n",
       "      <td>3.003786</td>\n",
       "      <td>2.753359</td>\n",
       "      <td>2.062580</td>\n",
       "      <td>4.223484</td>\n",
       "      <td>2.879139</td>\n",
       "    </tr>\n",
       "    <tr>\n",
       "      <th>min</th>\n",
       "      <td>0.000000</td>\n",
       "      <td>0.000000</td>\n",
       "      <td>0.000000</td>\n",
       "      <td>0.000000</td>\n",
       "      <td>0.000000</td>\n",
       "      <td>0.000000</td>\n",
       "    </tr>\n",
       "    <tr>\n",
       "      <th>25%</th>\n",
       "      <td>4630.750000</td>\n",
       "      <td>1.000000</td>\n",
       "      <td>3.000000</td>\n",
       "      <td>3.000000</td>\n",
       "      <td>5.000000</td>\n",
       "      <td>3.000000</td>\n",
       "    </tr>\n",
       "    <tr>\n",
       "      <th>50%</th>\n",
       "      <td>9261.500000</td>\n",
       "      <td>2.000000</td>\n",
       "      <td>5.000000</td>\n",
       "      <td>4.000000</td>\n",
       "      <td>8.000000</td>\n",
       "      <td>5.000000</td>\n",
       "    </tr>\n",
       "    <tr>\n",
       "      <th>75%</th>\n",
       "      <td>13892.250000</td>\n",
       "      <td>4.000000</td>\n",
       "      <td>8.000000</td>\n",
       "      <td>6.000000</td>\n",
       "      <td>12.000000</td>\n",
       "      <td>7.000000</td>\n",
       "    </tr>\n",
       "    <tr>\n",
       "      <th>max</th>\n",
       "      <td>18523.000000</td>\n",
       "      <td>11.000000</td>\n",
       "      <td>10.000000</td>\n",
       "      <td>7.000000</td>\n",
       "      <td>15.000000</td>\n",
       "      <td>10.000000</td>\n",
       "    </tr>\n",
       "  </tbody>\n",
       "</table>\n",
       "</div>"
      ],
      "text/plain": [
       "                 id  Time_spent_Alone  Social_event_attendance  Going_outside  \\\n",
       "count  18524.000000      17334.000000             17344.000000   17058.000000   \n",
       "mean    9261.500000          3.137764                 5.265106       4.044319   \n",
       "std     5347.562529          3.003786                 2.753359       2.062580   \n",
       "min        0.000000          0.000000                 0.000000       0.000000   \n",
       "25%     4630.750000          1.000000                 3.000000       3.000000   \n",
       "50%     9261.500000          2.000000                 5.000000       4.000000   \n",
       "75%    13892.250000          4.000000                 8.000000       6.000000   \n",
       "max    18523.000000         11.000000                10.000000       7.000000   \n",
       "\n",
       "       Friends_circle_size  Post_frequency  \n",
       "count         17470.000000    17260.000000  \n",
       "mean              7.996737        4.982097  \n",
       "std               4.223484        2.879139  \n",
       "min               0.000000        0.000000  \n",
       "25%               5.000000        3.000000  \n",
       "50%               8.000000        5.000000  \n",
       "75%              12.000000        7.000000  \n",
       "max              15.000000       10.000000  "
      ]
     },
     "execution_count": 6,
     "metadata": {},
     "output_type": "execute_result"
    }
   ],
   "source": [
    "df.describe()"
   ]
  },
  {
   "cell_type": "code",
   "execution_count": 7,
   "id": "88c813ab",
   "metadata": {
    "execution": {
     "iopub.execute_input": "2025-07-02T12:00:45.009016Z",
     "iopub.status.busy": "2025-07-02T12:00:45.008594Z",
     "iopub.status.idle": "2025-07-02T12:00:45.019009Z",
     "shell.execute_reply": "2025-07-02T12:00:45.017968Z"
    },
    "papermill": {
     "duration": 0.025508,
     "end_time": "2025-07-02T12:00:45.020730",
     "exception": false,
     "start_time": "2025-07-02T12:00:44.995222",
     "status": "completed"
    },
    "tags": []
   },
   "outputs": [
    {
     "data": {
      "text/plain": [
       "array(['No', 'Yes', nan], dtype=object)"
      ]
     },
     "execution_count": 7,
     "metadata": {},
     "output_type": "execute_result"
    }
   ],
   "source": [
    "df[\"Stage_fear\"].unique()"
   ]
  },
  {
   "cell_type": "code",
   "execution_count": 8,
   "id": "76c34809",
   "metadata": {
    "execution": {
     "iopub.execute_input": "2025-07-02T12:00:45.044153Z",
     "iopub.status.busy": "2025-07-02T12:00:45.043837Z",
     "iopub.status.idle": "2025-07-02T12:00:45.052821Z",
     "shell.execute_reply": "2025-07-02T12:00:45.051978Z"
    },
    "papermill": {
     "duration": 0.023276,
     "end_time": "2025-07-02T12:00:45.054300",
     "exception": false,
     "start_time": "2025-07-02T12:00:45.031024",
     "status": "completed"
    },
    "tags": []
   },
   "outputs": [
    {
     "data": {
      "text/plain": [
       "Stage_fear\n",
       "No     12609\n",
       "Yes     4022\n",
       "Name: count, dtype: int64"
      ]
     },
     "execution_count": 8,
     "metadata": {},
     "output_type": "execute_result"
    }
   ],
   "source": [
    "df[\"Stage_fear\"].value_counts()"
   ]
  },
  {
   "cell_type": "code",
   "execution_count": 9,
   "id": "67a7cffe",
   "metadata": {
    "execution": {
     "iopub.execute_input": "2025-07-02T12:00:45.074666Z",
     "iopub.status.busy": "2025-07-02T12:00:45.074324Z",
     "iopub.status.idle": "2025-07-02T12:00:45.083222Z",
     "shell.execute_reply": "2025-07-02T12:00:45.082181Z"
    },
    "papermill": {
     "duration": 0.020862,
     "end_time": "2025-07-02T12:00:45.084807",
     "exception": false,
     "start_time": "2025-07-02T12:00:45.063945",
     "status": "completed"
    },
    "tags": []
   },
   "outputs": [
    {
     "data": {
      "text/plain": [
       "Drained_after_socializing\n",
       "No     13313\n",
       "Yes     4062\n",
       "Name: count, dtype: int64"
      ]
     },
     "execution_count": 9,
     "metadata": {},
     "output_type": "execute_result"
    }
   ],
   "source": [
    "df[\"Drained_after_socializing\"].value_counts()"
   ]
  },
  {
   "cell_type": "code",
   "execution_count": 10,
   "id": "619cd6d1",
   "metadata": {
    "execution": {
     "iopub.execute_input": "2025-07-02T12:00:45.106155Z",
     "iopub.status.busy": "2025-07-02T12:00:45.105838Z",
     "iopub.status.idle": "2025-07-02T12:00:45.112315Z",
     "shell.execute_reply": "2025-07-02T12:00:45.111601Z"
    },
    "papermill": {
     "duration": 0.018634,
     "end_time": "2025-07-02T12:00:45.113736",
     "exception": false,
     "start_time": "2025-07-02T12:00:45.095102",
     "status": "completed"
    },
    "tags": []
   },
   "outputs": [
    {
     "data": {
      "text/plain": [
       "array(['No', nan, 'Yes'], dtype=object)"
      ]
     },
     "execution_count": 10,
     "metadata": {},
     "output_type": "execute_result"
    }
   ],
   "source": [
    "df[\"Drained_after_socializing\"].unique()"
   ]
  },
  {
   "cell_type": "code",
   "execution_count": 11,
   "id": "c4aabb67",
   "metadata": {
    "execution": {
     "iopub.execute_input": "2025-07-02T12:00:45.134572Z",
     "iopub.status.busy": "2025-07-02T12:00:45.134082Z",
     "iopub.status.idle": "2025-07-02T12:00:45.144119Z",
     "shell.execute_reply": "2025-07-02T12:00:45.142983Z"
    },
    "papermill": {
     "duration": 0.022219,
     "end_time": "2025-07-02T12:00:45.145795",
     "exception": false,
     "start_time": "2025-07-02T12:00:45.123576",
     "status": "completed"
    },
    "tags": []
   },
   "outputs": [
    {
     "name": "stderr",
     "output_type": "stream",
     "text": [
      "/tmp/ipykernel_13/2013666444.py:1: FutureWarning: A value is trying to be set on a copy of a DataFrame or Series through chained assignment using an inplace method.\n",
      "The behavior will change in pandas 3.0. This inplace method will never work because the intermediate object on which we are setting values always behaves as a copy.\n",
      "\n",
      "For example, when doing 'df[col].method(value, inplace=True)', try using 'df.method({col: value}, inplace=True)' or df[col] = df[col].method(value) instead, to perform the operation inplace on the original object.\n",
      "\n",
      "\n",
      "  df['Drained_after_socializing'].fillna('Yes', inplace=True)\n",
      "/tmp/ipykernel_13/2013666444.py:2: FutureWarning: A value is trying to be set on a copy of a DataFrame or Series through chained assignment using an inplace method.\n",
      "The behavior will change in pandas 3.0. This inplace method will never work because the intermediate object on which we are setting values always behaves as a copy.\n",
      "\n",
      "For example, when doing 'df[col].method(value, inplace=True)', try using 'df.method({col: value}, inplace=True)' or df[col] = df[col].method(value) instead, to perform the operation inplace on the original object.\n",
      "\n",
      "\n",
      "  df['Stage_fear'].fillna('Yes', inplace=True)\n"
     ]
    }
   ],
   "source": [
    "df['Drained_after_socializing'].fillna('Yes', inplace=True)\n",
    "df['Stage_fear'].fillna('Yes', inplace=True)"
   ]
  },
  {
   "cell_type": "code",
   "execution_count": 12,
   "id": "01a107bd",
   "metadata": {
    "execution": {
     "iopub.execute_input": "2025-07-02T12:00:45.166592Z",
     "iopub.status.busy": "2025-07-02T12:00:45.166228Z",
     "iopub.status.idle": "2025-07-02T12:00:45.176945Z",
     "shell.execute_reply": "2025-07-02T12:00:45.176053Z"
    },
    "papermill": {
     "duration": 0.022714,
     "end_time": "2025-07-02T12:00:45.178341",
     "exception": false,
     "start_time": "2025-07-02T12:00:45.155627",
     "status": "completed"
    },
    "tags": []
   },
   "outputs": [
    {
     "data": {
      "text/plain": [
       "id                              0\n",
       "Time_spent_Alone             1190\n",
       "Stage_fear                      0\n",
       "Social_event_attendance      1180\n",
       "Going_outside                1466\n",
       "Drained_after_socializing       0\n",
       "Friends_circle_size          1054\n",
       "Post_frequency               1264\n",
       "Personality                     0\n",
       "dtype: int64"
      ]
     },
     "execution_count": 12,
     "metadata": {},
     "output_type": "execute_result"
    }
   ],
   "source": [
    "df.isna().sum()"
   ]
  },
  {
   "cell_type": "code",
   "execution_count": 13,
   "id": "15c80d5f",
   "metadata": {
    "execution": {
     "iopub.execute_input": "2025-07-02T12:00:45.202102Z",
     "iopub.status.busy": "2025-07-02T12:00:45.201799Z",
     "iopub.status.idle": "2025-07-02T12:00:45.212582Z",
     "shell.execute_reply": "2025-07-02T12:00:45.211372Z"
    },
    "papermill": {
     "duration": 0.024878,
     "end_time": "2025-07-02T12:00:45.214436",
     "exception": false,
     "start_time": "2025-07-02T12:00:45.189558",
     "status": "completed"
    },
    "tags": []
   },
   "outputs": [
    {
     "name": "stderr",
     "output_type": "stream",
     "text": [
      "/tmp/ipykernel_13/1563982883.py:1: FutureWarning: A value is trying to be set on a copy of a DataFrame or Series through chained assignment using an inplace method.\n",
      "The behavior will change in pandas 3.0. This inplace method will never work because the intermediate object on which we are setting values always behaves as a copy.\n",
      "\n",
      "For example, when doing 'df[col].method(value, inplace=True)', try using 'df.method({col: value}, inplace=True)' or df[col] = df[col].method(value) instead, to perform the operation inplace on the original object.\n",
      "\n",
      "\n",
      "  df['Time_spent_Alone'].fillna(df['Time_spent_Alone'].median(), inplace=True)\n",
      "/tmp/ipykernel_13/1563982883.py:2: FutureWarning: A value is trying to be set on a copy of a DataFrame or Series through chained assignment using an inplace method.\n",
      "The behavior will change in pandas 3.0. This inplace method will never work because the intermediate object on which we are setting values always behaves as a copy.\n",
      "\n",
      "For example, when doing 'df[col].method(value, inplace=True)', try using 'df.method({col: value}, inplace=True)' or df[col] = df[col].method(value) instead, to perform the operation inplace on the original object.\n",
      "\n",
      "\n",
      "  df['Social_event_attendance'].fillna(df['Social_event_attendance'].mean(), inplace=True)\n",
      "/tmp/ipykernel_13/1563982883.py:3: FutureWarning: A value is trying to be set on a copy of a DataFrame or Series through chained assignment using an inplace method.\n",
      "The behavior will change in pandas 3.0. This inplace method will never work because the intermediate object on which we are setting values always behaves as a copy.\n",
      "\n",
      "For example, when doing 'df[col].method(value, inplace=True)', try using 'df.method({col: value}, inplace=True)' or df[col] = df[col].method(value) instead, to perform the operation inplace on the original object.\n",
      "\n",
      "\n",
      "  df['Going_outside'].fillna(df['Going_outside'].mean(), inplace=True)\n",
      "/tmp/ipykernel_13/1563982883.py:4: FutureWarning: A value is trying to be set on a copy of a DataFrame or Series through chained assignment using an inplace method.\n",
      "The behavior will change in pandas 3.0. This inplace method will never work because the intermediate object on which we are setting values always behaves as a copy.\n",
      "\n",
      "For example, when doing 'df[col].method(value, inplace=True)', try using 'df.method({col: value}, inplace=True)' or df[col] = df[col].method(value) instead, to perform the operation inplace on the original object.\n",
      "\n",
      "\n",
      "  df['Friends_circle_size'].fillna(df['Friends_circle_size'].mean(), inplace=True)\n",
      "/tmp/ipykernel_13/1563982883.py:5: FutureWarning: A value is trying to be set on a copy of a DataFrame or Series through chained assignment using an inplace method.\n",
      "The behavior will change in pandas 3.0. This inplace method will never work because the intermediate object on which we are setting values always behaves as a copy.\n",
      "\n",
      "For example, when doing 'df[col].method(value, inplace=True)', try using 'df.method({col: value}, inplace=True)' or df[col] = df[col].method(value) instead, to perform the operation inplace on the original object.\n",
      "\n",
      "\n",
      "  df['Post_frequency'].fillna(df['Post_frequency'].mean(), inplace=True)\n"
     ]
    }
   ],
   "source": [
    "df['Time_spent_Alone'].fillna(df['Time_spent_Alone'].median(), inplace=True)\n",
    "df['Social_event_attendance'].fillna(df['Social_event_attendance'].mean(), inplace=True)\n",
    "df['Going_outside'].fillna(df['Going_outside'].mean(), inplace=True)\n",
    "df['Friends_circle_size'].fillna(df['Friends_circle_size'].mean(), inplace=True)\n",
    "df['Post_frequency'].fillna(df['Post_frequency'].mean(), inplace=True)"
   ]
  },
  {
   "cell_type": "code",
   "execution_count": 14,
   "id": "bce786f8",
   "metadata": {
    "execution": {
     "iopub.execute_input": "2025-07-02T12:00:45.238190Z",
     "iopub.status.busy": "2025-07-02T12:00:45.237864Z",
     "iopub.status.idle": "2025-07-02T12:00:45.249182Z",
     "shell.execute_reply": "2025-07-02T12:00:45.248281Z"
    },
    "papermill": {
     "duration": 0.025126,
     "end_time": "2025-07-02T12:00:45.250857",
     "exception": false,
     "start_time": "2025-07-02T12:00:45.225731",
     "status": "completed"
    },
    "tags": []
   },
   "outputs": [
    {
     "data": {
      "text/plain": [
       "id                           0\n",
       "Time_spent_Alone             0\n",
       "Stage_fear                   0\n",
       "Social_event_attendance      0\n",
       "Going_outside                0\n",
       "Drained_after_socializing    0\n",
       "Friends_circle_size          0\n",
       "Post_frequency               0\n",
       "Personality                  0\n",
       "dtype: int64"
      ]
     },
     "execution_count": 14,
     "metadata": {},
     "output_type": "execute_result"
    }
   ],
   "source": [
    "df.isna().sum()"
   ]
  },
  {
   "cell_type": "code",
   "execution_count": 15,
   "id": "4e04fbd4",
   "metadata": {
    "execution": {
     "iopub.execute_input": "2025-07-02T12:00:45.272510Z",
     "iopub.status.busy": "2025-07-02T12:00:45.272176Z",
     "iopub.status.idle": "2025-07-02T12:00:45.279414Z",
     "shell.execute_reply": "2025-07-02T12:00:45.278553Z"
    },
    "papermill": {
     "duration": 0.019615,
     "end_time": "2025-07-02T12:00:45.280880",
     "exception": false,
     "start_time": "2025-07-02T12:00:45.261265",
     "status": "completed"
    },
    "tags": []
   },
   "outputs": [
    {
     "data": {
      "text/plain": [
       "array(['Extrovert', 'Introvert'], dtype=object)"
      ]
     },
     "execution_count": 15,
     "metadata": {},
     "output_type": "execute_result"
    }
   ],
   "source": [
    "df['Personality'].unique()"
   ]
  },
  {
   "cell_type": "code",
   "execution_count": 16,
   "id": "ca4a529e",
   "metadata": {
    "execution": {
     "iopub.execute_input": "2025-07-02T12:00:45.302915Z",
     "iopub.status.busy": "2025-07-02T12:00:45.302603Z",
     "iopub.status.idle": "2025-07-02T12:00:45.309492Z",
     "shell.execute_reply": "2025-07-02T12:00:45.308608Z"
    },
    "papermill": {
     "duration": 0.019841,
     "end_time": "2025-07-02T12:00:45.311033",
     "exception": false,
     "start_time": "2025-07-02T12:00:45.291192",
     "status": "completed"
    },
    "tags": []
   },
   "outputs": [],
   "source": [
    "df['Personality'] = df['Personality'].map({'Extrovert': 1, 'Introvert': 0})"
   ]
  },
  {
   "cell_type": "code",
   "execution_count": 17,
   "id": "827d6175",
   "metadata": {
    "execution": {
     "iopub.execute_input": "2025-07-02T12:00:45.398620Z",
     "iopub.status.busy": "2025-07-02T12:00:45.398279Z",
     "iopub.status.idle": "2025-07-02T12:00:45.412122Z",
     "shell.execute_reply": "2025-07-02T12:00:45.411108Z"
    },
    "papermill": {
     "duration": 0.026433,
     "end_time": "2025-07-02T12:00:45.413598",
     "exception": false,
     "start_time": "2025-07-02T12:00:45.387165",
     "status": "completed"
    },
    "tags": []
   },
   "outputs": [
    {
     "data": {
      "text/html": [
       "<div>\n",
       "<style scoped>\n",
       "    .dataframe tbody tr th:only-of-type {\n",
       "        vertical-align: middle;\n",
       "    }\n",
       "\n",
       "    .dataframe tbody tr th {\n",
       "        vertical-align: top;\n",
       "    }\n",
       "\n",
       "    .dataframe thead th {\n",
       "        text-align: right;\n",
       "    }\n",
       "</style>\n",
       "<table border=\"1\" class=\"dataframe\">\n",
       "  <thead>\n",
       "    <tr style=\"text-align: right;\">\n",
       "      <th></th>\n",
       "      <th>id</th>\n",
       "      <th>Time_spent_Alone</th>\n",
       "      <th>Stage_fear</th>\n",
       "      <th>Social_event_attendance</th>\n",
       "      <th>Going_outside</th>\n",
       "      <th>Drained_after_socializing</th>\n",
       "      <th>Friends_circle_size</th>\n",
       "      <th>Post_frequency</th>\n",
       "      <th>Personality</th>\n",
       "    </tr>\n",
       "  </thead>\n",
       "  <tbody>\n",
       "    <tr>\n",
       "      <th>0</th>\n",
       "      <td>0</td>\n",
       "      <td>0.0</td>\n",
       "      <td>No</td>\n",
       "      <td>6.0</td>\n",
       "      <td>4.0</td>\n",
       "      <td>No</td>\n",
       "      <td>15.0</td>\n",
       "      <td>5.000000</td>\n",
       "      <td>1</td>\n",
       "    </tr>\n",
       "    <tr>\n",
       "      <th>1</th>\n",
       "      <td>1</td>\n",
       "      <td>1.0</td>\n",
       "      <td>No</td>\n",
       "      <td>7.0</td>\n",
       "      <td>3.0</td>\n",
       "      <td>No</td>\n",
       "      <td>10.0</td>\n",
       "      <td>8.000000</td>\n",
       "      <td>1</td>\n",
       "    </tr>\n",
       "    <tr>\n",
       "      <th>2</th>\n",
       "      <td>2</td>\n",
       "      <td>6.0</td>\n",
       "      <td>Yes</td>\n",
       "      <td>1.0</td>\n",
       "      <td>0.0</td>\n",
       "      <td>Yes</td>\n",
       "      <td>3.0</td>\n",
       "      <td>0.000000</td>\n",
       "      <td>0</td>\n",
       "    </tr>\n",
       "    <tr>\n",
       "      <th>3</th>\n",
       "      <td>3</td>\n",
       "      <td>3.0</td>\n",
       "      <td>No</td>\n",
       "      <td>7.0</td>\n",
       "      <td>3.0</td>\n",
       "      <td>No</td>\n",
       "      <td>11.0</td>\n",
       "      <td>5.000000</td>\n",
       "      <td>1</td>\n",
       "    </tr>\n",
       "    <tr>\n",
       "      <th>4</th>\n",
       "      <td>4</td>\n",
       "      <td>1.0</td>\n",
       "      <td>No</td>\n",
       "      <td>4.0</td>\n",
       "      <td>4.0</td>\n",
       "      <td>No</td>\n",
       "      <td>13.0</td>\n",
       "      <td>4.982097</td>\n",
       "      <td>1</td>\n",
       "    </tr>\n",
       "  </tbody>\n",
       "</table>\n",
       "</div>"
      ],
      "text/plain": [
       "   id  Time_spent_Alone Stage_fear  Social_event_attendance  Going_outside  \\\n",
       "0   0               0.0         No                      6.0            4.0   \n",
       "1   1               1.0         No                      7.0            3.0   \n",
       "2   2               6.0        Yes                      1.0            0.0   \n",
       "3   3               3.0         No                      7.0            3.0   \n",
       "4   4               1.0         No                      4.0            4.0   \n",
       "\n",
       "  Drained_after_socializing  Friends_circle_size  Post_frequency  Personality  \n",
       "0                        No                 15.0        5.000000            1  \n",
       "1                        No                 10.0        8.000000            1  \n",
       "2                       Yes                  3.0        0.000000            0  \n",
       "3                        No                 11.0        5.000000            1  \n",
       "4                        No                 13.0        4.982097            1  "
      ]
     },
     "execution_count": 17,
     "metadata": {},
     "output_type": "execute_result"
    }
   ],
   "source": [
    "df.head()"
   ]
  },
  {
   "cell_type": "code",
   "execution_count": 18,
   "id": "e412fb19",
   "metadata": {
    "execution": {
     "iopub.execute_input": "2025-07-02T12:00:45.436290Z",
     "iopub.status.busy": "2025-07-02T12:00:45.435952Z",
     "iopub.status.idle": "2025-07-02T12:00:45.448581Z",
     "shell.execute_reply": "2025-07-02T12:00:45.447547Z"
    },
    "papermill": {
     "duration": 0.025805,
     "end_time": "2025-07-02T12:00:45.450135",
     "exception": false,
     "start_time": "2025-07-02T12:00:45.424330",
     "status": "completed"
    },
    "tags": []
   },
   "outputs": [
    {
     "name": "stdout",
     "output_type": "stream",
     "text": [
      "<class 'pandas.core.frame.DataFrame'>\n",
      "RangeIndex: 18524 entries, 0 to 18523\n",
      "Data columns (total 9 columns):\n",
      " #   Column                     Non-Null Count  Dtype  \n",
      "---  ------                     --------------  -----  \n",
      " 0   id                         18524 non-null  int64  \n",
      " 1   Time_spent_Alone           18524 non-null  float64\n",
      " 2   Stage_fear                 18524 non-null  object \n",
      " 3   Social_event_attendance    18524 non-null  float64\n",
      " 4   Going_outside              18524 non-null  float64\n",
      " 5   Drained_after_socializing  18524 non-null  object \n",
      " 6   Friends_circle_size        18524 non-null  float64\n",
      " 7   Post_frequency             18524 non-null  float64\n",
      " 8   Personality                18524 non-null  int64  \n",
      "dtypes: float64(5), int64(2), object(2)\n",
      "memory usage: 1.3+ MB\n"
     ]
    }
   ],
   "source": [
    "df.info()"
   ]
  },
  {
   "cell_type": "code",
   "execution_count": 19,
   "id": "5f29acc5",
   "metadata": {
    "execution": {
     "iopub.execute_input": "2025-07-02T12:00:45.473225Z",
     "iopub.status.busy": "2025-07-02T12:00:45.472916Z",
     "iopub.status.idle": "2025-07-02T12:00:45.477603Z",
     "shell.execute_reply": "2025-07-02T12:00:45.476667Z"
    },
    "papermill": {
     "duration": 0.018142,
     "end_time": "2025-07-02T12:00:45.479131",
     "exception": false,
     "start_time": "2025-07-02T12:00:45.460989",
     "status": "completed"
    },
    "tags": []
   },
   "outputs": [],
   "source": [
    "# Step 2: Define feature columns\n",
    "categorical_features = ['Stage_fear','Drained_after_socializing']\n",
    "numerical_features = ['Time_spent_Alone', 'Social_event_attendance','Going_outside','Friends_circle_size','Post_frequency']"
   ]
  },
  {
   "cell_type": "code",
   "execution_count": 20,
   "id": "0e2a298a",
   "metadata": {
    "execution": {
     "iopub.execute_input": "2025-07-02T12:00:45.502864Z",
     "iopub.status.busy": "2025-07-02T12:00:45.501687Z",
     "iopub.status.idle": "2025-07-02T12:00:47.401349Z",
     "shell.execute_reply": "2025-07-02T12:00:47.400293Z"
    },
    "papermill": {
     "duration": 1.913116,
     "end_time": "2025-07-02T12:00:47.403161",
     "exception": false,
     "start_time": "2025-07-02T12:00:45.490045",
     "status": "completed"
    },
    "tags": []
   },
   "outputs": [],
   "source": [
    "from sklearn.preprocessing import StandardScaler, OneHotEncoder\n",
    "from sklearn.compose import ColumnTransformer\n",
    "from sklearn.pipeline import Pipeline\n",
    "from sklearn.impute import SimpleImputer"
   ]
  },
  {
   "cell_type": "code",
   "execution_count": 21,
   "id": "fb3f5f6a",
   "metadata": {
    "execution": {
     "iopub.execute_input": "2025-07-02T12:00:47.427705Z",
     "iopub.status.busy": "2025-07-02T12:00:47.427130Z",
     "iopub.status.idle": "2025-07-02T12:00:47.432023Z",
     "shell.execute_reply": "2025-07-02T12:00:47.431246Z"
    },
    "papermill": {
     "duration": 0.018635,
     "end_time": "2025-07-02T12:00:47.433393",
     "exception": false,
     "start_time": "2025-07-02T12:00:47.414758",
     "status": "completed"
    },
    "tags": []
   },
   "outputs": [],
   "source": [
    "# One-hot encoder for categorical features\n",
    "one_hot_encoder = OneHotEncoder(drop='first', sparse_output=False, handle_unknown='ignore')\n",
    "\n",
    "# Standard scaler for numerical features (and one-hot encoded features)\n",
    "scaler = StandardScaler()"
   ]
  },
  {
   "cell_type": "code",
   "execution_count": 22,
   "id": "b32d223d",
   "metadata": {
    "execution": {
     "iopub.execute_input": "2025-07-02T12:00:47.456743Z",
     "iopub.status.busy": "2025-07-02T12:00:47.455924Z",
     "iopub.status.idle": "2025-07-02T12:00:47.461179Z",
     "shell.execute_reply": "2025-07-02T12:00:47.460224Z"
    },
    "papermill": {
     "duration": 0.018381,
     "end_time": "2025-07-02T12:00:47.462729",
     "exception": false,
     "start_time": "2025-07-02T12:00:47.444348",
     "status": "completed"
    },
    "tags": []
   },
   "outputs": [],
   "source": [
    "# ColumnTransformer to apply different preprocessing to categorical and numerical columns\n",
    "preprocessor = ColumnTransformer(\n",
    "    transformers=[\n",
    "        ('cat', Pipeline([\n",
    "            ('onehot', one_hot_encoder)\n",
    "        ]), categorical_features),\n",
    "        ('num', Pipeline([\n",
    "            ('scaler', scaler)\n",
    "        ]), numerical_features)\n",
    "    ])\n"
   ]
  },
  {
   "cell_type": "code",
   "execution_count": 23,
   "id": "0781a20d",
   "metadata": {
    "execution": {
     "iopub.execute_input": "2025-07-02T12:00:47.486299Z",
     "iopub.status.busy": "2025-07-02T12:00:47.485546Z",
     "iopub.status.idle": "2025-07-02T12:00:47.490005Z",
     "shell.execute_reply": "2025-07-02T12:00:47.489069Z"
    },
    "papermill": {
     "duration": 0.017964,
     "end_time": "2025-07-02T12:00:47.491660",
     "exception": false,
     "start_time": "2025-07-02T12:00:47.473696",
     "status": "completed"
    },
    "tags": []
   },
   "outputs": [],
   "source": [
    "\n",
    "# Step 4: Create the pipeline\n",
    "pipeline = Pipeline([\n",
    "    ('preprocessor', preprocessor)\n",
    "])\n"
   ]
  },
  {
   "cell_type": "code",
   "execution_count": 24,
   "id": "38e97336",
   "metadata": {
    "execution": {
     "iopub.execute_input": "2025-07-02T12:00:47.514387Z",
     "iopub.status.busy": "2025-07-02T12:00:47.514093Z",
     "iopub.status.idle": "2025-07-02T12:00:47.528180Z",
     "shell.execute_reply": "2025-07-02T12:00:47.527308Z"
    },
    "papermill": {
     "duration": 0.027199,
     "end_time": "2025-07-02T12:00:47.529916",
     "exception": false,
     "start_time": "2025-07-02T12:00:47.502717",
     "status": "completed"
    },
    "tags": []
   },
   "outputs": [
    {
     "data": {
      "text/html": [
       "<div>\n",
       "<style scoped>\n",
       "    .dataframe tbody tr th:only-of-type {\n",
       "        vertical-align: middle;\n",
       "    }\n",
       "\n",
       "    .dataframe tbody tr th {\n",
       "        vertical-align: top;\n",
       "    }\n",
       "\n",
       "    .dataframe thead th {\n",
       "        text-align: right;\n",
       "    }\n",
       "</style>\n",
       "<table border=\"1\" class=\"dataframe\">\n",
       "  <thead>\n",
       "    <tr style=\"text-align: right;\">\n",
       "      <th></th>\n",
       "      <th>id</th>\n",
       "      <th>Time_spent_Alone</th>\n",
       "      <th>Stage_fear</th>\n",
       "      <th>Social_event_attendance</th>\n",
       "      <th>Going_outside</th>\n",
       "      <th>Drained_after_socializing</th>\n",
       "      <th>Friends_circle_size</th>\n",
       "      <th>Post_frequency</th>\n",
       "      <th>Personality</th>\n",
       "    </tr>\n",
       "  </thead>\n",
       "  <tbody>\n",
       "    <tr>\n",
       "      <th>0</th>\n",
       "      <td>0</td>\n",
       "      <td>0.0</td>\n",
       "      <td>No</td>\n",
       "      <td>6.0</td>\n",
       "      <td>4.0</td>\n",
       "      <td>No</td>\n",
       "      <td>15.0</td>\n",
       "      <td>5.000000</td>\n",
       "      <td>1</td>\n",
       "    </tr>\n",
       "    <tr>\n",
       "      <th>1</th>\n",
       "      <td>1</td>\n",
       "      <td>1.0</td>\n",
       "      <td>No</td>\n",
       "      <td>7.0</td>\n",
       "      <td>3.0</td>\n",
       "      <td>No</td>\n",
       "      <td>10.0</td>\n",
       "      <td>8.000000</td>\n",
       "      <td>1</td>\n",
       "    </tr>\n",
       "    <tr>\n",
       "      <th>2</th>\n",
       "      <td>2</td>\n",
       "      <td>6.0</td>\n",
       "      <td>Yes</td>\n",
       "      <td>1.0</td>\n",
       "      <td>0.0</td>\n",
       "      <td>Yes</td>\n",
       "      <td>3.0</td>\n",
       "      <td>0.000000</td>\n",
       "      <td>0</td>\n",
       "    </tr>\n",
       "    <tr>\n",
       "      <th>3</th>\n",
       "      <td>3</td>\n",
       "      <td>3.0</td>\n",
       "      <td>No</td>\n",
       "      <td>7.0</td>\n",
       "      <td>3.0</td>\n",
       "      <td>No</td>\n",
       "      <td>11.0</td>\n",
       "      <td>5.000000</td>\n",
       "      <td>1</td>\n",
       "    </tr>\n",
       "    <tr>\n",
       "      <th>4</th>\n",
       "      <td>4</td>\n",
       "      <td>1.0</td>\n",
       "      <td>No</td>\n",
       "      <td>4.0</td>\n",
       "      <td>4.0</td>\n",
       "      <td>No</td>\n",
       "      <td>13.0</td>\n",
       "      <td>4.982097</td>\n",
       "      <td>1</td>\n",
       "    </tr>\n",
       "  </tbody>\n",
       "</table>\n",
       "</div>"
      ],
      "text/plain": [
       "   id  Time_spent_Alone Stage_fear  Social_event_attendance  Going_outside  \\\n",
       "0   0               0.0         No                      6.0            4.0   \n",
       "1   1               1.0         No                      7.0            3.0   \n",
       "2   2               6.0        Yes                      1.0            0.0   \n",
       "3   3               3.0         No                      7.0            3.0   \n",
       "4   4               1.0         No                      4.0            4.0   \n",
       "\n",
       "  Drained_after_socializing  Friends_circle_size  Post_frequency  Personality  \n",
       "0                        No                 15.0        5.000000            1  \n",
       "1                        No                 10.0        8.000000            1  \n",
       "2                       Yes                  3.0        0.000000            0  \n",
       "3                        No                 11.0        5.000000            1  \n",
       "4                        No                 13.0        4.982097            1  "
      ]
     },
     "execution_count": 24,
     "metadata": {},
     "output_type": "execute_result"
    }
   ],
   "source": [
    "df.head()"
   ]
  },
  {
   "cell_type": "code",
   "execution_count": 25,
   "id": "5289deb9",
   "metadata": {
    "execution": {
     "iopub.execute_input": "2025-07-02T12:00:47.553965Z",
     "iopub.status.busy": "2025-07-02T12:00:47.552847Z",
     "iopub.status.idle": "2025-07-02T12:00:47.562132Z",
     "shell.execute_reply": "2025-07-02T12:00:47.561258Z"
    },
    "papermill": {
     "duration": 0.022581,
     "end_time": "2025-07-02T12:00:47.563701",
     "exception": false,
     "start_time": "2025-07-02T12:00:47.541120",
     "status": "completed"
    },
    "tags": []
   },
   "outputs": [],
   "source": [
    "# Step 5: Prepare features and target\n",
    "X = df.drop(['Personality','id'], axis=1)  # Features\n",
    "y = df['Personality']               # Numerical target (1/0)\n"
   ]
  },
  {
   "cell_type": "code",
   "execution_count": 26,
   "id": "d219fe66",
   "metadata": {
    "execution": {
     "iopub.execute_input": "2025-07-02T12:00:47.587790Z",
     "iopub.status.busy": "2025-07-02T12:00:47.586857Z",
     "iopub.status.idle": "2025-07-02T12:00:47.600208Z",
     "shell.execute_reply": "2025-07-02T12:00:47.599329Z"
    },
    "papermill": {
     "duration": 0.026966,
     "end_time": "2025-07-02T12:00:47.601889",
     "exception": false,
     "start_time": "2025-07-02T12:00:47.574923",
     "status": "completed"
    },
    "tags": []
   },
   "outputs": [
    {
     "data": {
      "text/html": [
       "<div>\n",
       "<style scoped>\n",
       "    .dataframe tbody tr th:only-of-type {\n",
       "        vertical-align: middle;\n",
       "    }\n",
       "\n",
       "    .dataframe tbody tr th {\n",
       "        vertical-align: top;\n",
       "    }\n",
       "\n",
       "    .dataframe thead th {\n",
       "        text-align: right;\n",
       "    }\n",
       "</style>\n",
       "<table border=\"1\" class=\"dataframe\">\n",
       "  <thead>\n",
       "    <tr style=\"text-align: right;\">\n",
       "      <th></th>\n",
       "      <th>Time_spent_Alone</th>\n",
       "      <th>Stage_fear</th>\n",
       "      <th>Social_event_attendance</th>\n",
       "      <th>Going_outside</th>\n",
       "      <th>Drained_after_socializing</th>\n",
       "      <th>Friends_circle_size</th>\n",
       "      <th>Post_frequency</th>\n",
       "    </tr>\n",
       "  </thead>\n",
       "  <tbody>\n",
       "    <tr>\n",
       "      <th>0</th>\n",
       "      <td>0.0</td>\n",
       "      <td>No</td>\n",
       "      <td>6.0</td>\n",
       "      <td>4.0</td>\n",
       "      <td>No</td>\n",
       "      <td>15.0</td>\n",
       "      <td>5.000000</td>\n",
       "    </tr>\n",
       "    <tr>\n",
       "      <th>1</th>\n",
       "      <td>1.0</td>\n",
       "      <td>No</td>\n",
       "      <td>7.0</td>\n",
       "      <td>3.0</td>\n",
       "      <td>No</td>\n",
       "      <td>10.0</td>\n",
       "      <td>8.000000</td>\n",
       "    </tr>\n",
       "    <tr>\n",
       "      <th>2</th>\n",
       "      <td>6.0</td>\n",
       "      <td>Yes</td>\n",
       "      <td>1.0</td>\n",
       "      <td>0.0</td>\n",
       "      <td>Yes</td>\n",
       "      <td>3.0</td>\n",
       "      <td>0.000000</td>\n",
       "    </tr>\n",
       "    <tr>\n",
       "      <th>3</th>\n",
       "      <td>3.0</td>\n",
       "      <td>No</td>\n",
       "      <td>7.0</td>\n",
       "      <td>3.0</td>\n",
       "      <td>No</td>\n",
       "      <td>11.0</td>\n",
       "      <td>5.000000</td>\n",
       "    </tr>\n",
       "    <tr>\n",
       "      <th>4</th>\n",
       "      <td>1.0</td>\n",
       "      <td>No</td>\n",
       "      <td>4.0</td>\n",
       "      <td>4.0</td>\n",
       "      <td>No</td>\n",
       "      <td>13.0</td>\n",
       "      <td>4.982097</td>\n",
       "    </tr>\n",
       "  </tbody>\n",
       "</table>\n",
       "</div>"
      ],
      "text/plain": [
       "   Time_spent_Alone Stage_fear  Social_event_attendance  Going_outside  \\\n",
       "0               0.0         No                      6.0            4.0   \n",
       "1               1.0         No                      7.0            3.0   \n",
       "2               6.0        Yes                      1.0            0.0   \n",
       "3               3.0         No                      7.0            3.0   \n",
       "4               1.0         No                      4.0            4.0   \n",
       "\n",
       "  Drained_after_socializing  Friends_circle_size  Post_frequency  \n",
       "0                        No                 15.0        5.000000  \n",
       "1                        No                 10.0        8.000000  \n",
       "2                       Yes                  3.0        0.000000  \n",
       "3                        No                 11.0        5.000000  \n",
       "4                        No                 13.0        4.982097  "
      ]
     },
     "execution_count": 26,
     "metadata": {},
     "output_type": "execute_result"
    }
   ],
   "source": [
    "X.head()"
   ]
  },
  {
   "cell_type": "code",
   "execution_count": 27,
   "id": "e3cd36dc",
   "metadata": {
    "execution": {
     "iopub.execute_input": "2025-07-02T12:00:47.625682Z",
     "iopub.status.busy": "2025-07-02T12:00:47.625307Z",
     "iopub.status.idle": "2025-07-02T12:00:47.670470Z",
     "shell.execute_reply": "2025-07-02T12:00:47.669682Z"
    },
    "papermill": {
     "duration": 0.058874,
     "end_time": "2025-07-02T12:00:47.672227",
     "exception": false,
     "start_time": "2025-07-02T12:00:47.613353",
     "status": "completed"
    },
    "tags": []
   },
   "outputs": [],
   "source": [
    "# Step 6: Fit and transform the features using the pipeline\n",
    "X_transformed = pipeline.fit_transform(X)"
   ]
  },
  {
   "cell_type": "code",
   "execution_count": 28,
   "id": "b7b55861",
   "metadata": {
    "execution": {
     "iopub.execute_input": "2025-07-02T12:00:47.698335Z",
     "iopub.status.busy": "2025-07-02T12:00:47.697958Z",
     "iopub.status.idle": "2025-07-02T12:00:47.703928Z",
     "shell.execute_reply": "2025-07-02T12:00:47.702793Z"
    },
    "papermill": {
     "duration": 0.021399,
     "end_time": "2025-07-02T12:00:47.705464",
     "exception": false,
     "start_time": "2025-07-02T12:00:47.684065",
     "status": "completed"
    },
    "tags": []
   },
   "outputs": [],
   "source": [
    "# Convert transformed data back to DataFrame for inspection\n",
    "feature_names = (pipeline.named_steps['preprocessor']\n",
    "                    .named_transformers_['cat']\n",
    "                    .named_steps['onehot']\n",
    "                    .get_feature_names_out(categorical_features)).tolist() + numerical_features\n",
    "X_transformed_df = pd.DataFrame(X_transformed, columns=feature_names, index=X.index)"
   ]
  },
  {
   "cell_type": "code",
   "execution_count": 29,
   "id": "273bc534",
   "metadata": {
    "execution": {
     "iopub.execute_input": "2025-07-02T12:00:47.731667Z",
     "iopub.status.busy": "2025-07-02T12:00:47.731321Z",
     "iopub.status.idle": "2025-07-02T12:00:47.737857Z",
     "shell.execute_reply": "2025-07-02T12:00:47.736686Z"
    },
    "papermill": {
     "duration": 0.022307,
     "end_time": "2025-07-02T12:00:47.739331",
     "exception": false,
     "start_time": "2025-07-02T12:00:47.717024",
     "status": "completed"
    },
    "tags": []
   },
   "outputs": [],
   "source": [
    "# Combine with target for final DataFrame (optional)\n",
    "df_final = pd.concat([X_transformed_df, y.rename('Personality')], axis=1)"
   ]
  },
  {
   "cell_type": "code",
   "execution_count": 30,
   "id": "ed8e9d97",
   "metadata": {
    "execution": {
     "iopub.execute_input": "2025-07-02T12:00:47.764540Z",
     "iopub.status.busy": "2025-07-02T12:00:47.763659Z",
     "iopub.status.idle": "2025-07-02T12:00:47.775387Z",
     "shell.execute_reply": "2025-07-02T12:00:47.774589Z"
    },
    "papermill": {
     "duration": 0.025438,
     "end_time": "2025-07-02T12:00:47.776767",
     "exception": false,
     "start_time": "2025-07-02T12:00:47.751329",
     "status": "completed"
    },
    "tags": []
   },
   "outputs": [
    {
     "data": {
      "text/html": [
       "<div>\n",
       "<style scoped>\n",
       "    .dataframe tbody tr th:only-of-type {\n",
       "        vertical-align: middle;\n",
       "    }\n",
       "\n",
       "    .dataframe tbody tr th {\n",
       "        vertical-align: top;\n",
       "    }\n",
       "\n",
       "    .dataframe thead th {\n",
       "        text-align: right;\n",
       "    }\n",
       "</style>\n",
       "<table border=\"1\" class=\"dataframe\">\n",
       "  <thead>\n",
       "    <tr style=\"text-align: right;\">\n",
       "      <th></th>\n",
       "      <th>Stage_fear_Yes</th>\n",
       "      <th>Drained_after_socializing_Yes</th>\n",
       "      <th>Time_spent_Alone</th>\n",
       "      <th>Social_event_attendance</th>\n",
       "      <th>Going_outside</th>\n",
       "      <th>Friends_circle_size</th>\n",
       "      <th>Post_frequency</th>\n",
       "      <th>Personality</th>\n",
       "    </tr>\n",
       "  </thead>\n",
       "  <tbody>\n",
       "    <tr>\n",
       "      <th>0</th>\n",
       "      <td>0.0</td>\n",
       "      <td>0.0</td>\n",
       "      <td>-1.049913</td>\n",
       "      <td>0.275846</td>\n",
       "      <td>-0.022392</td>\n",
       "      <td>1.707509</td>\n",
       "      <td>0.006442</td>\n",
       "      <td>1</td>\n",
       "    </tr>\n",
       "    <tr>\n",
       "      <th>1</th>\n",
       "      <td>0.0</td>\n",
       "      <td>0.0</td>\n",
       "      <td>-0.707327</td>\n",
       "      <td>0.651201</td>\n",
       "      <td>-0.527641</td>\n",
       "      <td>0.488428</td>\n",
       "      <td>1.085931</td>\n",
       "      <td>1</td>\n",
       "    </tr>\n",
       "    <tr>\n",
       "      <th>2</th>\n",
       "      <td>1.0</td>\n",
       "      <td>1.0</td>\n",
       "      <td>1.005601</td>\n",
       "      <td>-1.600930</td>\n",
       "      <td>-2.043388</td>\n",
       "      <td>-1.218285</td>\n",
       "      <td>-1.792706</td>\n",
       "      <td>0</td>\n",
       "    </tr>\n",
       "    <tr>\n",
       "      <th>3</th>\n",
       "      <td>0.0</td>\n",
       "      <td>0.0</td>\n",
       "      <td>-0.022156</td>\n",
       "      <td>0.651201</td>\n",
       "      <td>-0.527641</td>\n",
       "      <td>0.732244</td>\n",
       "      <td>0.006442</td>\n",
       "      <td>1</td>\n",
       "    </tr>\n",
       "    <tr>\n",
       "      <th>4</th>\n",
       "      <td>0.0</td>\n",
       "      <td>0.0</td>\n",
       "      <td>-0.707327</td>\n",
       "      <td>-0.474864</td>\n",
       "      <td>-0.022392</td>\n",
       "      <td>1.219876</td>\n",
       "      <td>0.000000</td>\n",
       "      <td>1</td>\n",
       "    </tr>\n",
       "  </tbody>\n",
       "</table>\n",
       "</div>"
      ],
      "text/plain": [
       "   Stage_fear_Yes  Drained_after_socializing_Yes  Time_spent_Alone  \\\n",
       "0             0.0                            0.0         -1.049913   \n",
       "1             0.0                            0.0         -0.707327   \n",
       "2             1.0                            1.0          1.005601   \n",
       "3             0.0                            0.0         -0.022156   \n",
       "4             0.0                            0.0         -0.707327   \n",
       "\n",
       "   Social_event_attendance  Going_outside  Friends_circle_size  \\\n",
       "0                 0.275846      -0.022392             1.707509   \n",
       "1                 0.651201      -0.527641             0.488428   \n",
       "2                -1.600930      -2.043388            -1.218285   \n",
       "3                 0.651201      -0.527641             0.732244   \n",
       "4                -0.474864      -0.022392             1.219876   \n",
       "\n",
       "   Post_frequency  Personality  \n",
       "0        0.006442            1  \n",
       "1        1.085931            1  \n",
       "2       -1.792706            0  \n",
       "3        0.006442            1  \n",
       "4        0.000000            1  "
      ]
     },
     "execution_count": 30,
     "metadata": {},
     "output_type": "execute_result"
    }
   ],
   "source": [
    "df_final.head()"
   ]
  },
  {
   "cell_type": "code",
   "execution_count": 31,
   "id": "485c3ede",
   "metadata": {
    "execution": {
     "iopub.execute_input": "2025-07-02T12:00:47.801592Z",
     "iopub.status.busy": "2025-07-02T12:00:47.801205Z",
     "iopub.status.idle": "2025-07-02T12:00:47.805636Z",
     "shell.execute_reply": "2025-07-02T12:00:47.804784Z"
    },
    "papermill": {
     "duration": 0.018606,
     "end_time": "2025-07-02T12:00:47.807304",
     "exception": false,
     "start_time": "2025-07-02T12:00:47.788698",
     "status": "completed"
    },
    "tags": []
   },
   "outputs": [],
   "source": [
    "# # Example: Integrate with a model (e.g., Logistic Regression)\n",
    "from sklearn.linear_model import LogisticRegression\n",
    "model_pipeline = Pipeline([\n",
    "    ('preprocessor', preprocessor),\n",
    "    ('classifier', LogisticRegression())\n",
    "])\n",
    "# model_pipeline.fit(X, y)"
   ]
  },
  {
   "cell_type": "code",
   "execution_count": 32,
   "id": "a06b9b5c",
   "metadata": {
    "execution": {
     "iopub.execute_input": "2025-07-02T12:00:47.832092Z",
     "iopub.status.busy": "2025-07-02T12:00:47.831784Z",
     "iopub.status.idle": "2025-07-02T12:00:48.491724Z",
     "shell.execute_reply": "2025-07-02T12:00:48.490738Z"
    },
    "papermill": {
     "duration": 0.674547,
     "end_time": "2025-07-02T12:00:48.493561",
     "exception": false,
     "start_time": "2025-07-02T12:00:47.819014",
     "status": "completed"
    },
    "tags": []
   },
   "outputs": [],
   "source": [
    "from sklearn.model_selection import train_test_split\n",
    "from sklearn.metrics import accuracy_score, f1_score, mean_absolute_error, confusion_matrix, classification_report\n",
    "import seaborn as sns\n",
    "# Step 6: Split data into training and test sets\n",
    "X_train, X_test, y_train, y_test = train_test_split(X, y, test_size=0.2, random_state=42, stratify=y)"
   ]
  },
  {
   "cell_type": "code",
   "execution_count": 33,
   "id": "ed4804bb",
   "metadata": {
    "execution": {
     "iopub.execute_input": "2025-07-02T12:00:48.518764Z",
     "iopub.status.busy": "2025-07-02T12:00:48.518286Z",
     "iopub.status.idle": "2025-07-02T12:00:48.712325Z",
     "shell.execute_reply": "2025-07-02T12:00:48.709749Z"
    },
    "papermill": {
     "duration": 0.208821,
     "end_time": "2025-07-02T12:00:48.714425",
     "exception": false,
     "start_time": "2025-07-02T12:00:48.505604",
     "status": "completed"
    },
    "tags": []
   },
   "outputs": [
    {
     "data": {
      "text/html": [
       "<style>#sk-container-id-1 {color: black;background-color: white;}#sk-container-id-1 pre{padding: 0;}#sk-container-id-1 div.sk-toggleable {background-color: white;}#sk-container-id-1 label.sk-toggleable__label {cursor: pointer;display: block;width: 100%;margin-bottom: 0;padding: 0.3em;box-sizing: border-box;text-align: center;}#sk-container-id-1 label.sk-toggleable__label-arrow:before {content: \"▸\";float: left;margin-right: 0.25em;color: #696969;}#sk-container-id-1 label.sk-toggleable__label-arrow:hover:before {color: black;}#sk-container-id-1 div.sk-estimator:hover label.sk-toggleable__label-arrow:before {color: black;}#sk-container-id-1 div.sk-toggleable__content {max-height: 0;max-width: 0;overflow: hidden;text-align: left;background-color: #f0f8ff;}#sk-container-id-1 div.sk-toggleable__content pre {margin: 0.2em;color: black;border-radius: 0.25em;background-color: #f0f8ff;}#sk-container-id-1 input.sk-toggleable__control:checked~div.sk-toggleable__content {max-height: 200px;max-width: 100%;overflow: auto;}#sk-container-id-1 input.sk-toggleable__control:checked~label.sk-toggleable__label-arrow:before {content: \"▾\";}#sk-container-id-1 div.sk-estimator input.sk-toggleable__control:checked~label.sk-toggleable__label {background-color: #d4ebff;}#sk-container-id-1 div.sk-label input.sk-toggleable__control:checked~label.sk-toggleable__label {background-color: #d4ebff;}#sk-container-id-1 input.sk-hidden--visually {border: 0;clip: rect(1px 1px 1px 1px);clip: rect(1px, 1px, 1px, 1px);height: 1px;margin: -1px;overflow: hidden;padding: 0;position: absolute;width: 1px;}#sk-container-id-1 div.sk-estimator {font-family: monospace;background-color: #f0f8ff;border: 1px dotted black;border-radius: 0.25em;box-sizing: border-box;margin-bottom: 0.5em;}#sk-container-id-1 div.sk-estimator:hover {background-color: #d4ebff;}#sk-container-id-1 div.sk-parallel-item::after {content: \"\";width: 100%;border-bottom: 1px solid gray;flex-grow: 1;}#sk-container-id-1 div.sk-label:hover label.sk-toggleable__label {background-color: #d4ebff;}#sk-container-id-1 div.sk-serial::before {content: \"\";position: absolute;border-left: 1px solid gray;box-sizing: border-box;top: 0;bottom: 0;left: 50%;z-index: 0;}#sk-container-id-1 div.sk-serial {display: flex;flex-direction: column;align-items: center;background-color: white;padding-right: 0.2em;padding-left: 0.2em;position: relative;}#sk-container-id-1 div.sk-item {position: relative;z-index: 1;}#sk-container-id-1 div.sk-parallel {display: flex;align-items: stretch;justify-content: center;background-color: white;position: relative;}#sk-container-id-1 div.sk-item::before, #sk-container-id-1 div.sk-parallel-item::before {content: \"\";position: absolute;border-left: 1px solid gray;box-sizing: border-box;top: 0;bottom: 0;left: 50%;z-index: -1;}#sk-container-id-1 div.sk-parallel-item {display: flex;flex-direction: column;z-index: 1;position: relative;background-color: white;}#sk-container-id-1 div.sk-parallel-item:first-child::after {align-self: flex-end;width: 50%;}#sk-container-id-1 div.sk-parallel-item:last-child::after {align-self: flex-start;width: 50%;}#sk-container-id-1 div.sk-parallel-item:only-child::after {width: 0;}#sk-container-id-1 div.sk-dashed-wrapped {border: 1px dashed gray;margin: 0 0.4em 0.5em 0.4em;box-sizing: border-box;padding-bottom: 0.4em;background-color: white;}#sk-container-id-1 div.sk-label label {font-family: monospace;font-weight: bold;display: inline-block;line-height: 1.2em;}#sk-container-id-1 div.sk-label-container {text-align: center;}#sk-container-id-1 div.sk-container {/* jupyter's `normalize.less` sets `[hidden] { display: none; }` but bootstrap.min.css set `[hidden] { display: none !important; }` so we also need the `!important` here to be able to override the default hidden behavior on the sphinx rendered scikit-learn.org. See: https://github.com/scikit-learn/scikit-learn/issues/21755 */display: inline-block !important;position: relative;}#sk-container-id-1 div.sk-text-repr-fallback {display: none;}</style><div id=\"sk-container-id-1\" class=\"sk-top-container\"><div class=\"sk-text-repr-fallback\"><pre>Pipeline(steps=[(&#x27;preprocessor&#x27;,\n",
       "                 ColumnTransformer(transformers=[(&#x27;cat&#x27;,\n",
       "                                                  Pipeline(steps=[(&#x27;onehot&#x27;,\n",
       "                                                                   OneHotEncoder(drop=&#x27;first&#x27;,\n",
       "                                                                                 handle_unknown=&#x27;ignore&#x27;,\n",
       "                                                                                 sparse_output=False))]),\n",
       "                                                  [&#x27;Stage_fear&#x27;,\n",
       "                                                   &#x27;Drained_after_socializing&#x27;]),\n",
       "                                                 (&#x27;num&#x27;,\n",
       "                                                  Pipeline(steps=[(&#x27;scaler&#x27;,\n",
       "                                                                   StandardScaler())]),\n",
       "                                                  [&#x27;Time_spent_Alone&#x27;,\n",
       "                                                   &#x27;Social_event_attendance&#x27;,\n",
       "                                                   &#x27;Going_outside&#x27;,\n",
       "                                                   &#x27;Friends_circle_size&#x27;,\n",
       "                                                   &#x27;Post_frequency&#x27;])])),\n",
       "                (&#x27;classifier&#x27;, LogisticRegression())])</pre><b>In a Jupyter environment, please rerun this cell to show the HTML representation or trust the notebook. <br />On GitHub, the HTML representation is unable to render, please try loading this page with nbviewer.org.</b></div><div class=\"sk-container\" hidden><div class=\"sk-item sk-dashed-wrapped\"><div class=\"sk-label-container\"><div class=\"sk-label sk-toggleable\"><input class=\"sk-toggleable__control sk-hidden--visually\" id=\"sk-estimator-id-1\" type=\"checkbox\" ><label for=\"sk-estimator-id-1\" class=\"sk-toggleable__label sk-toggleable__label-arrow\">Pipeline</label><div class=\"sk-toggleable__content\"><pre>Pipeline(steps=[(&#x27;preprocessor&#x27;,\n",
       "                 ColumnTransformer(transformers=[(&#x27;cat&#x27;,\n",
       "                                                  Pipeline(steps=[(&#x27;onehot&#x27;,\n",
       "                                                                   OneHotEncoder(drop=&#x27;first&#x27;,\n",
       "                                                                                 handle_unknown=&#x27;ignore&#x27;,\n",
       "                                                                                 sparse_output=False))]),\n",
       "                                                  [&#x27;Stage_fear&#x27;,\n",
       "                                                   &#x27;Drained_after_socializing&#x27;]),\n",
       "                                                 (&#x27;num&#x27;,\n",
       "                                                  Pipeline(steps=[(&#x27;scaler&#x27;,\n",
       "                                                                   StandardScaler())]),\n",
       "                                                  [&#x27;Time_spent_Alone&#x27;,\n",
       "                                                   &#x27;Social_event_attendance&#x27;,\n",
       "                                                   &#x27;Going_outside&#x27;,\n",
       "                                                   &#x27;Friends_circle_size&#x27;,\n",
       "                                                   &#x27;Post_frequency&#x27;])])),\n",
       "                (&#x27;classifier&#x27;, LogisticRegression())])</pre></div></div></div><div class=\"sk-serial\"><div class=\"sk-item sk-dashed-wrapped\"><div class=\"sk-label-container\"><div class=\"sk-label sk-toggleable\"><input class=\"sk-toggleable__control sk-hidden--visually\" id=\"sk-estimator-id-2\" type=\"checkbox\" ><label for=\"sk-estimator-id-2\" class=\"sk-toggleable__label sk-toggleable__label-arrow\">preprocessor: ColumnTransformer</label><div class=\"sk-toggleable__content\"><pre>ColumnTransformer(transformers=[(&#x27;cat&#x27;,\n",
       "                                 Pipeline(steps=[(&#x27;onehot&#x27;,\n",
       "                                                  OneHotEncoder(drop=&#x27;first&#x27;,\n",
       "                                                                handle_unknown=&#x27;ignore&#x27;,\n",
       "                                                                sparse_output=False))]),\n",
       "                                 [&#x27;Stage_fear&#x27;, &#x27;Drained_after_socializing&#x27;]),\n",
       "                                (&#x27;num&#x27;,\n",
       "                                 Pipeline(steps=[(&#x27;scaler&#x27;, StandardScaler())]),\n",
       "                                 [&#x27;Time_spent_Alone&#x27;, &#x27;Social_event_attendance&#x27;,\n",
       "                                  &#x27;Going_outside&#x27;, &#x27;Friends_circle_size&#x27;,\n",
       "                                  &#x27;Post_frequency&#x27;])])</pre></div></div></div><div class=\"sk-parallel\"><div class=\"sk-parallel-item\"><div class=\"sk-item\"><div class=\"sk-label-container\"><div class=\"sk-label sk-toggleable\"><input class=\"sk-toggleable__control sk-hidden--visually\" id=\"sk-estimator-id-3\" type=\"checkbox\" ><label for=\"sk-estimator-id-3\" class=\"sk-toggleable__label sk-toggleable__label-arrow\">cat</label><div class=\"sk-toggleable__content\"><pre>[&#x27;Stage_fear&#x27;, &#x27;Drained_after_socializing&#x27;]</pre></div></div></div><div class=\"sk-serial\"><div class=\"sk-item\"><div class=\"sk-serial\"><div class=\"sk-item\"><div class=\"sk-estimator sk-toggleable\"><input class=\"sk-toggleable__control sk-hidden--visually\" id=\"sk-estimator-id-4\" type=\"checkbox\" ><label for=\"sk-estimator-id-4\" class=\"sk-toggleable__label sk-toggleable__label-arrow\">OneHotEncoder</label><div class=\"sk-toggleable__content\"><pre>OneHotEncoder(drop=&#x27;first&#x27;, handle_unknown=&#x27;ignore&#x27;, sparse_output=False)</pre></div></div></div></div></div></div></div></div><div class=\"sk-parallel-item\"><div class=\"sk-item\"><div class=\"sk-label-container\"><div class=\"sk-label sk-toggleable\"><input class=\"sk-toggleable__control sk-hidden--visually\" id=\"sk-estimator-id-5\" type=\"checkbox\" ><label for=\"sk-estimator-id-5\" class=\"sk-toggleable__label sk-toggleable__label-arrow\">num</label><div class=\"sk-toggleable__content\"><pre>[&#x27;Time_spent_Alone&#x27;, &#x27;Social_event_attendance&#x27;, &#x27;Going_outside&#x27;, &#x27;Friends_circle_size&#x27;, &#x27;Post_frequency&#x27;]</pre></div></div></div><div class=\"sk-serial\"><div class=\"sk-item\"><div class=\"sk-serial\"><div class=\"sk-item\"><div class=\"sk-estimator sk-toggleable\"><input class=\"sk-toggleable__control sk-hidden--visually\" id=\"sk-estimator-id-6\" type=\"checkbox\" ><label for=\"sk-estimator-id-6\" class=\"sk-toggleable__label sk-toggleable__label-arrow\">StandardScaler</label><div class=\"sk-toggleable__content\"><pre>StandardScaler()</pre></div></div></div></div></div></div></div></div></div></div><div class=\"sk-item\"><div class=\"sk-estimator sk-toggleable\"><input class=\"sk-toggleable__control sk-hidden--visually\" id=\"sk-estimator-id-7\" type=\"checkbox\" ><label for=\"sk-estimator-id-7\" class=\"sk-toggleable__label sk-toggleable__label-arrow\">LogisticRegression</label><div class=\"sk-toggleable__content\"><pre>LogisticRegression()</pre></div></div></div></div></div></div></div>"
      ],
      "text/plain": [
       "Pipeline(steps=[('preprocessor',\n",
       "                 ColumnTransformer(transformers=[('cat',\n",
       "                                                  Pipeline(steps=[('onehot',\n",
       "                                                                   OneHotEncoder(drop='first',\n",
       "                                                                                 handle_unknown='ignore',\n",
       "                                                                                 sparse_output=False))]),\n",
       "                                                  ['Stage_fear',\n",
       "                                                   'Drained_after_socializing']),\n",
       "                                                 ('num',\n",
       "                                                  Pipeline(steps=[('scaler',\n",
       "                                                                   StandardScaler())]),\n",
       "                                                  ['Time_spent_Alone',\n",
       "                                                   'Social_event_attendance',\n",
       "                                                   'Going_outside',\n",
       "                                                   'Friends_circle_size',\n",
       "                                                   'Post_frequency'])])),\n",
       "                ('classifier', LogisticRegression())])"
      ]
     },
     "execution_count": 33,
     "metadata": {},
     "output_type": "execute_result"
    }
   ],
   "source": [
    "# Step 7: Train the model\n",
    "model_pipeline.fit(X_train, y_train)"
   ]
  },
  {
   "cell_type": "code",
   "execution_count": 34,
   "id": "902f46a2",
   "metadata": {
    "execution": {
     "iopub.execute_input": "2025-07-02T12:00:48.760078Z",
     "iopub.status.busy": "2025-07-02T12:00:48.758127Z",
     "iopub.status.idle": "2025-07-02T12:00:48.773408Z",
     "shell.execute_reply": "2025-07-02T12:00:48.772600Z"
    },
    "papermill": {
     "duration": 0.038742,
     "end_time": "2025-07-02T12:00:48.775119",
     "exception": false,
     "start_time": "2025-07-02T12:00:48.736377",
     "status": "completed"
    },
    "tags": []
   },
   "outputs": [],
   "source": [
    "# Step 8: Make predictions\n",
    "y_pred = model_pipeline.predict(X_test)"
   ]
  },
  {
   "cell_type": "code",
   "execution_count": 35,
   "id": "0f958aec",
   "metadata": {
    "execution": {
     "iopub.execute_input": "2025-07-02T12:00:48.801495Z",
     "iopub.status.busy": "2025-07-02T12:00:48.801210Z",
     "iopub.status.idle": "2025-07-02T12:00:48.815319Z",
     "shell.execute_reply": "2025-07-02T12:00:48.814328Z"
    },
    "papermill": {
     "duration": 0.029116,
     "end_time": "2025-07-02T12:00:48.817125",
     "exception": false,
     "start_time": "2025-07-02T12:00:48.788009",
     "status": "completed"
    },
    "tags": []
   },
   "outputs": [],
   "source": [
    "# Step 9: Calculate metrics\n",
    "accuracy = accuracy_score(y_test, y_pred)\n",
    "error_rate = 1 - accuracy\n",
    "f1 = f1_score(y_test, y_pred)\n",
    "mae = mean_absolute_error(y_test, y_pred)\n",
    "conf_matrix = confusion_matrix(y_test, y_pred)"
   ]
  },
  {
   "cell_type": "code",
   "execution_count": 36,
   "id": "ce3b9172",
   "metadata": {
    "execution": {
     "iopub.execute_input": "2025-07-02T12:00:48.843568Z",
     "iopub.status.busy": "2025-07-02T12:00:48.843200Z",
     "iopub.status.idle": "2025-07-02T12:00:48.861562Z",
     "shell.execute_reply": "2025-07-02T12:00:48.860466Z"
    },
    "papermill": {
     "duration": 0.033756,
     "end_time": "2025-07-02T12:00:48.863154",
     "exception": false,
     "start_time": "2025-07-02T12:00:48.829398",
     "status": "completed"
    },
    "tags": []
   },
   "outputs": [
    {
     "name": "stdout",
     "output_type": "stream",
     "text": [
      "Evaluation Metrics:\n",
      "Accuracy: 0.9657\n",
      "Error Rate: 0.0343\n",
      "F1 Score: 0.9769\n",
      "Mean Absolute Error (MAE): 0.0343\n",
      "\n",
      "Confusion Matrix:\n",
      "[[ 891   74]\n",
      " [  53 2687]]\n",
      "\n",
      "Classification Report:\n",
      "              precision    recall  f1-score   support\n",
      "\n",
      "          No       0.94      0.92      0.93       965\n",
      "         Yes       0.97      0.98      0.98      2740\n",
      "\n",
      "    accuracy                           0.97      3705\n",
      "   macro avg       0.96      0.95      0.96      3705\n",
      "weighted avg       0.97      0.97      0.97      3705\n",
      "\n"
     ]
    }
   ],
   "source": [
    "# Print metrics\n",
    "print(\"Evaluation Metrics:\")\n",
    "print(f\"Accuracy: {accuracy:.4f}\")\n",
    "print(f\"Error Rate: {error_rate:.4f}\")\n",
    "print(f\"F1 Score: {f1:.4f}\")\n",
    "print(f\"Mean Absolute Error (MAE): {mae:.4f}\")\n",
    "print(\"\\nConfusion Matrix:\")\n",
    "print(conf_matrix)\n",
    "print(\"\\nClassification Report:\")\n",
    "print(classification_report(y_test, y_pred, target_names=['No', 'Yes']))"
   ]
  },
  {
   "cell_type": "code",
   "execution_count": 37,
   "id": "c4d60d00",
   "metadata": {
    "execution": {
     "iopub.execute_input": "2025-07-02T12:00:48.889954Z",
     "iopub.status.busy": "2025-07-02T12:00:48.889632Z",
     "iopub.status.idle": "2025-07-02T12:00:49.154467Z",
     "shell.execute_reply": "2025-07-02T12:00:49.153494Z"
    },
    "papermill": {
     "duration": 0.280145,
     "end_time": "2025-07-02T12:00:49.155909",
     "exception": false,
     "start_time": "2025-07-02T12:00:48.875764",
     "status": "completed"
    },
    "tags": []
   },
   "outputs": [
    {
     "data": {
      "image/png": "[encoded data removed]",
      "text/plain": [
       "<Figure size 600x400 with 2 Axes>"
      ]
     },
     "metadata": {},
     "output_type": "display_data"
    }
   ],
   "source": [
    "# Step 10: Visualize confusion matrix\n",
    "plt.figure(figsize=(6, 4))\n",
    "sns.heatmap(conf_matrix, annot=True, fmt='d', cmap='Blues', xticklabels=['No', 'Yes'], yticklabels=['No', 'Yes'])\n",
    "plt.xlabel('Predicted')\n",
    "plt.ylabel('Actual')\n",
    "plt.title('Confusion Matrix')\n",
    "plt.show()"
   ]
  },
  {
   "cell_type": "code",
   "execution_count": 38,
   "id": "6e7f558b",
   "metadata": {
    "execution": {
     "iopub.execute_input": "2025-07-02T12:00:49.182312Z",
     "iopub.status.busy": "2025-07-02T12:00:49.181951Z",
     "iopub.status.idle": "2025-07-02T12:00:49.316975Z",
     "shell.execute_reply": "2025-07-02T12:00:49.315980Z"
    },
    "papermill": {
     "duration": 0.150418,
     "end_time": "2025-07-02T12:00:49.318926",
     "exception": false,
     "start_time": "2025-07-02T12:00:49.168508",
     "status": "completed"
    },
    "tags": []
   },
   "outputs": [
    {
     "data": {
      "image/png": "[encoded data removed]",
      "text/plain": [
       "<Figure size 800x600 with 1 Axes>"
      ]
     },
     "metadata": {},
     "output_type": "display_data"
    }
   ],
   "source": [
    "# Step 9: Create scatter plot with jitter\n",
    "jitter = 0.02  # Small random noise to avoid overlap\n",
    "y_actual_jitter = y_test + np.random.uniform(-jitter, jitter, size=len(y_test))\n",
    "y_pred_jitter = y_pred + np.random.uniform(-jitter, jitter, size=len(y_pred))\n",
    "\n",
    "plt.figure(figsize=(8, 6))\n",
    "plt.scatter(y_actual_jitter, y_pred_jitter, alpha=0.5, s=50)\n",
    "plt.xlabel('Actual (0 = No, 1 = Yes)')\n",
    "plt.ylabel('Predicted (0 = No, 1 = Yes)')\n",
    "plt.title('Scatter Plot: Actual vs Predicted')\n",
    "plt.xticks([0, 1], ['No', 'Yes'])\n",
    "plt.yticks([0, 1], ['No', 'Yes'])\n",
    "plt.grid(True, linestyle='--', alpha=0.7)\n",
    "plt.show()"
   ]
  },
  {
   "cell_type": "code",
   "execution_count": 39,
   "id": "0f8232f3",
   "metadata": {
    "execution": {
     "iopub.execute_input": "2025-07-02T12:00:49.346707Z",
     "iopub.status.busy": "2025-07-02T12:00:49.346368Z",
     "iopub.status.idle": "2025-07-02T12:00:49.374706Z",
     "shell.execute_reply": "2025-07-02T12:00:49.373601Z"
    },
    "papermill": {
     "duration": 0.04416,
     "end_time": "2025-07-02T12:00:49.376467",
     "exception": false,
     "start_time": "2025-07-02T12:00:49.332307",
     "status": "completed"
    },
    "tags": []
   },
   "outputs": [
    {
     "name": "stderr",
     "output_type": "stream",
     "text": [
      "/usr/local/lib/python3.11/dist-packages/pandas/io/formats/format.py:1458: RuntimeWarning: invalid value encountered in greater\n",
      "  has_large_values = (abs_vals > 1e6).any()\n",
      "/usr/local/lib/python3.11/dist-packages/pandas/io/formats/format.py:1459: RuntimeWarning: invalid value encountered in less\n",
      "  has_small_values = ((abs_vals < 10 ** (-self.digits)) & (abs_vals > 0)).any()\n",
      "/usr/local/lib/python3.11/dist-packages/pandas/io/formats/format.py:1459: RuntimeWarning: invalid value encountered in greater\n",
      "  has_small_values = ((abs_vals < 10 ** (-self.digits)) & (abs_vals > 0)).any()\n"
     ]
    },
    {
     "data": {
      "text/html": [
       "<div>\n",
       "<style scoped>\n",
       "    .dataframe tbody tr th:only-of-type {\n",
       "        vertical-align: middle;\n",
       "    }\n",
       "\n",
       "    .dataframe tbody tr th {\n",
       "        vertical-align: top;\n",
       "    }\n",
       "\n",
       "    .dataframe thead th {\n",
       "        text-align: right;\n",
       "    }\n",
       "</style>\n",
       "<table border=\"1\" class=\"dataframe\">\n",
       "  <thead>\n",
       "    <tr style=\"text-align: right;\">\n",
       "      <th></th>\n",
       "      <th>id</th>\n",
       "      <th>Time_spent_Alone</th>\n",
       "      <th>Stage_fear</th>\n",
       "      <th>Social_event_attendance</th>\n",
       "      <th>Going_outside</th>\n",
       "      <th>Drained_after_socializing</th>\n",
       "      <th>Friends_circle_size</th>\n",
       "      <th>Post_frequency</th>\n",
       "    </tr>\n",
       "  </thead>\n",
       "  <tbody>\n",
       "    <tr>\n",
       "      <th>0</th>\n",
       "      <td>18524</td>\n",
       "      <td>3.0</td>\n",
       "      <td>No</td>\n",
       "      <td>7.0</td>\n",
       "      <td>4.0</td>\n",
       "      <td>No</td>\n",
       "      <td>6.0</td>\n",
       "      <td>NaN</td>\n",
       "    </tr>\n",
       "    <tr>\n",
       "      <th>1</th>\n",
       "      <td>18525</td>\n",
       "      <td>NaN</td>\n",
       "      <td>Yes</td>\n",
       "      <td>0.0</td>\n",
       "      <td>0.0</td>\n",
       "      <td>Yes</td>\n",
       "      <td>5.0</td>\n",
       "      <td>1.0</td>\n",
       "    </tr>\n",
       "    <tr>\n",
       "      <th>2</th>\n",
       "      <td>18526</td>\n",
       "      <td>3.0</td>\n",
       "      <td>No</td>\n",
       "      <td>5.0</td>\n",
       "      <td>6.0</td>\n",
       "      <td>No</td>\n",
       "      <td>15.0</td>\n",
       "      <td>9.0</td>\n",
       "    </tr>\n",
       "    <tr>\n",
       "      <th>3</th>\n",
       "      <td>18527</td>\n",
       "      <td>3.0</td>\n",
       "      <td>No</td>\n",
       "      <td>4.0</td>\n",
       "      <td>4.0</td>\n",
       "      <td>No</td>\n",
       "      <td>5.0</td>\n",
       "      <td>6.0</td>\n",
       "    </tr>\n",
       "    <tr>\n",
       "      <th>4</th>\n",
       "      <td>18528</td>\n",
       "      <td>9.0</td>\n",
       "      <td>Yes</td>\n",
       "      <td>1.0</td>\n",
       "      <td>2.0</td>\n",
       "      <td>Yes</td>\n",
       "      <td>1.0</td>\n",
       "      <td>1.0</td>\n",
       "    </tr>\n",
       "  </tbody>\n",
       "</table>\n",
       "</div>"
      ],
      "text/plain": [
       "      id  Time_spent_Alone Stage_fear  Social_event_attendance  Going_outside  \\\n",
       "0  18524               3.0         No                      7.0            4.0   \n",
       "1  18525               NaN        Yes                      0.0            0.0   \n",
       "2  18526               3.0         No                      5.0            6.0   \n",
       "3  18527               3.0         No                      4.0            4.0   \n",
       "4  18528               9.0        Yes                      1.0            2.0   \n",
       "\n",
       "  Drained_after_socializing  Friends_circle_size  Post_frequency  \n",
       "0                        No                  6.0             NaN  \n",
       "1                       Yes                  5.0             1.0  \n",
       "2                        No                 15.0             9.0  \n",
       "3                        No                  5.0             6.0  \n",
       "4                       Yes                  1.0             1.0  "
      ]
     },
     "execution_count": 39,
     "metadata": {},
     "output_type": "execute_result"
    }
   ],
   "source": [
    "test_df=pd.read_csv('/kaggle/input/int-and-ext/test.csv')\n",
    "test_df.head()"
   ]
  },
  {
   "cell_type": "code",
   "execution_count": 40,
   "id": "0909fa70",
   "metadata": {
    "execution": {
     "iopub.execute_input": "2025-07-02T12:00:49.406096Z",
     "iopub.status.busy": "2025-07-02T12:00:49.405764Z",
     "iopub.status.idle": "2025-07-02T12:00:49.411603Z",
     "shell.execute_reply": "2025-07-02T12:00:49.410621Z"
    },
    "papermill": {
     "duration": 0.022618,
     "end_time": "2025-07-02T12:00:49.413206",
     "exception": false,
     "start_time": "2025-07-02T12:00:49.390588",
     "status": "completed"
    },
    "tags": []
   },
   "outputs": [
    {
     "data": {
      "text/plain": [
       "(6175, 8)"
      ]
     },
     "execution_count": 40,
     "metadata": {},
     "output_type": "execute_result"
    }
   ],
   "source": [
    "test_df.shape"
   ]
  },
  {
   "cell_type": "code",
   "execution_count": 41,
   "id": "895ff3b6",
   "metadata": {
    "execution": {
     "iopub.execute_input": "2025-07-02T12:00:49.442775Z",
     "iopub.status.busy": "2025-07-02T12:00:49.442378Z",
     "iopub.status.idle": "2025-07-02T12:00:49.451712Z",
     "shell.execute_reply": "2025-07-02T12:00:49.450514Z"
    },
    "papermill": {
     "duration": 0.025593,
     "end_time": "2025-07-02T12:00:49.453374",
     "exception": false,
     "start_time": "2025-07-02T12:00:49.427781",
     "status": "completed"
    },
    "tags": []
   },
   "outputs": [
    {
     "data": {
      "text/plain": [
       "id                             0\n",
       "Time_spent_Alone             425\n",
       "Stage_fear                   598\n",
       "Social_event_attendance      397\n",
       "Going_outside                466\n",
       "Drained_after_socializing    432\n",
       "Friends_circle_size          350\n",
       "Post_frequency               408\n",
       "dtype: int64"
      ]
     },
     "execution_count": 41,
     "metadata": {},
     "output_type": "execute_result"
    }
   ],
   "source": [
    "test_df.isna().sum()"
   ]
  },
  {
   "cell_type": "code",
   "execution_count": 42,
   "id": "5f6c5212",
   "metadata": {
    "execution": {
     "iopub.execute_input": "2025-07-02T12:00:49.482953Z",
     "iopub.status.busy": "2025-07-02T12:00:49.482651Z",
     "iopub.status.idle": "2025-07-02T12:00:49.494314Z",
     "shell.execute_reply": "2025-07-02T12:00:49.493431Z"
    },
    "papermill": {
     "duration": 0.028532,
     "end_time": "2025-07-02T12:00:49.495909",
     "exception": false,
     "start_time": "2025-07-02T12:00:49.467377",
     "status": "completed"
    },
    "tags": []
   },
   "outputs": [
    {
     "name": "stderr",
     "output_type": "stream",
     "text": [
      "/tmp/ipykernel_13/1498796315.py:1: FutureWarning: A value is trying to be set on a copy of a DataFrame or Series through chained assignment using an inplace method.\n",
      "The behavior will change in pandas 3.0. This inplace method will never work because the intermediate object on which we are setting values always behaves as a copy.\n",
      "\n",
      "For example, when doing 'df[col].method(value, inplace=True)', try using 'df.method({col: value}, inplace=True)' or df[col] = df[col].method(value) instead, to perform the operation inplace on the original object.\n",
      "\n",
      "\n",
      "  test_df['Drained_after_socializing'].fillna('Yes', inplace=True)\n",
      "/tmp/ipykernel_13/1498796315.py:2: FutureWarning: A value is trying to be set on a copy of a DataFrame or Series through chained assignment using an inplace method.\n",
      "The behavior will change in pandas 3.0. This inplace method will never work because the intermediate object on which we are setting values always behaves as a copy.\n",
      "\n",
      "For example, when doing 'df[col].method(value, inplace=True)', try using 'df.method({col: value}, inplace=True)' or df[col] = df[col].method(value) instead, to perform the operation inplace on the original object.\n",
      "\n",
      "\n",
      "  test_df['Stage_fear'].fillna('Yes', inplace=True)\n"
     ]
    },
    {
     "data": {
      "text/plain": [
       "id                             0\n",
       "Time_spent_Alone             425\n",
       "Stage_fear                     0\n",
       "Social_event_attendance      397\n",
       "Going_outside                466\n",
       "Drained_after_socializing      0\n",
       "Friends_circle_size          350\n",
       "Post_frequency               408\n",
       "dtype: int64"
      ]
     },
     "execution_count": 42,
     "metadata": {},
     "output_type": "execute_result"
    }
   ],
   "source": [
    "test_df['Drained_after_socializing'].fillna('Yes', inplace=True)\n",
    "test_df['Stage_fear'].fillna('Yes', inplace=True)\n",
    "test_df.isna().sum()"
   ]
  },
  {
   "cell_type": "code",
   "execution_count": 43,
   "id": "efec43f4",
   "metadata": {
    "execution": {
     "iopub.execute_input": "2025-07-02T12:00:49.526104Z",
     "iopub.status.busy": "2025-07-02T12:00:49.525811Z",
     "iopub.status.idle": "2025-07-02T12:00:49.541327Z",
     "shell.execute_reply": "2025-07-02T12:00:49.540156Z"
    },
    "papermill": {
     "duration": 0.032527,
     "end_time": "2025-07-02T12:00:49.542909",
     "exception": false,
     "start_time": "2025-07-02T12:00:49.510382",
     "status": "completed"
    },
    "tags": []
   },
   "outputs": [
    {
     "name": "stderr",
     "output_type": "stream",
     "text": [
      "/tmp/ipykernel_13/3918505844.py:1: FutureWarning: A value is trying to be set on a copy of a DataFrame or Series through chained assignment using an inplace method.\n",
      "The behavior will change in pandas 3.0. This inplace method will never work because the intermediate object on which we are setting values always behaves as a copy.\n",
      "\n",
      "For example, when doing 'df[col].method(value, inplace=True)', try using 'df.method({col: value}, inplace=True)' or df[col] = df[col].method(value) instead, to perform the operation inplace on the original object.\n",
      "\n",
      "\n",
      "  test_df['Time_spent_Alone'].fillna(df['Time_spent_Alone'].median(), inplace=True)\n",
      "/tmp/ipykernel_13/3918505844.py:2: FutureWarning: A value is trying to be set on a copy of a DataFrame or Series through chained assignment using an inplace method.\n",
      "The behavior will change in pandas 3.0. This inplace method will never work because the intermediate object on which we are setting values always behaves as a copy.\n",
      "\n",
      "For example, when doing 'df[col].method(value, inplace=True)', try using 'df.method({col: value}, inplace=True)' or df[col] = df[col].method(value) instead, to perform the operation inplace on the original object.\n",
      "\n",
      "\n",
      "  test_df['Social_event_attendance'].fillna(df['Social_event_attendance'].mean(), inplace=True)\n",
      "/tmp/ipykernel_13/3918505844.py:3: FutureWarning: A value is trying to be set on a copy of a DataFrame or Series through chained assignment using an inplace method.\n",
      "The behavior will change in pandas 3.0. This inplace method will never work because the intermediate object on which we are setting values always behaves as a copy.\n",
      "\n",
      "For example, when doing 'df[col].method(value, inplace=True)', try using 'df.method({col: value}, inplace=True)' or df[col] = df[col].method(value) instead, to perform the operation inplace on the original object.\n",
      "\n",
      "\n",
      "  test_df['Going_outside'].fillna(df['Going_outside'].mean(), inplace=True)\n",
      "/tmp/ipykernel_13/3918505844.py:4: FutureWarning: A value is trying to be set on a copy of a DataFrame or Series through chained assignment using an inplace method.\n",
      "The behavior will change in pandas 3.0. This inplace method will never work because the intermediate object on which we are setting values always behaves as a copy.\n",
      "\n",
      "For example, when doing 'df[col].method(value, inplace=True)', try using 'df.method({col: value}, inplace=True)' or df[col] = df[col].method(value) instead, to perform the operation inplace on the original object.\n",
      "\n",
      "\n",
      "  test_df['Friends_circle_size'].fillna(df['Friends_circle_size'].mean(), inplace=True)\n",
      "/tmp/ipykernel_13/3918505844.py:5: FutureWarning: A value is trying to be set on a copy of a DataFrame or Series through chained assignment using an inplace method.\n",
      "The behavior will change in pandas 3.0. This inplace method will never work because the intermediate object on which we are setting values always behaves as a copy.\n",
      "\n",
      "For example, when doing 'df[col].method(value, inplace=True)', try using 'df.method({col: value}, inplace=True)' or df[col] = df[col].method(value) instead, to perform the operation inplace on the original object.\n",
      "\n",
      "\n",
      "  test_df['Post_frequency'].fillna(df['Post_frequency'].mean(), inplace=True)\n"
     ]
    },
    {
     "data": {
      "text/plain": [
       "id                           0\n",
       "Time_spent_Alone             0\n",
       "Stage_fear                   0\n",
       "Social_event_attendance      0\n",
       "Going_outside                0\n",
       "Drained_after_socializing    0\n",
       "Friends_circle_size          0\n",
       "Post_frequency               0\n",
       "dtype: int64"
      ]
     },
     "execution_count": 43,
     "metadata": {},
     "output_type": "execute_result"
    }
   ],
   "source": [
    "test_df['Time_spent_Alone'].fillna(df['Time_spent_Alone'].median(), inplace=True)\n",
    "test_df['Social_event_attendance'].fillna(df['Social_event_attendance'].mean(), inplace=True)\n",
    "test_df['Going_outside'].fillna(df['Going_outside'].mean(), inplace=True)\n",
    "test_df['Friends_circle_size'].fillna(df['Friends_circle_size'].mean(), inplace=True)\n",
    "test_df['Post_frequency'].fillna(df['Post_frequency'].mean(), inplace=True)\n",
    "test_df.isna().sum()"
   ]
  },
  {
   "cell_type": "code",
   "execution_count": 44,
   "id": "3c05fe56",
   "metadata": {
    "execution": {
     "iopub.execute_input": "2025-07-02T12:00:49.572551Z",
     "iopub.status.busy": "2025-07-02T12:00:49.572189Z",
     "iopub.status.idle": "2025-07-02T12:00:49.578301Z",
     "shell.execute_reply": "2025-07-02T12:00:49.577337Z"
    },
    "papermill": {
     "duration": 0.022704,
     "end_time": "2025-07-02T12:00:49.579744",
     "exception": false,
     "start_time": "2025-07-02T12:00:49.557040",
     "status": "completed"
    },
    "tags": []
   },
   "outputs": [
    {
     "data": {
      "text/plain": [
       "(6175, 8)"
      ]
     },
     "execution_count": 44,
     "metadata": {},
     "output_type": "execute_result"
    }
   ],
   "source": [
    "test_df.shape"
   ]
  },
  {
   "cell_type": "code",
   "execution_count": 45,
   "id": "e31c5c9e",
   "metadata": {
    "execution": {
     "iopub.execute_input": "2025-07-02T12:00:49.610093Z",
     "iopub.status.busy": "2025-07-02T12:00:49.609806Z",
     "iopub.status.idle": "2025-07-02T12:00:49.615658Z",
     "shell.execute_reply": "2025-07-02T12:00:49.614622Z"
    },
    "papermill": {
     "duration": 0.023411,
     "end_time": "2025-07-02T12:00:49.617629",
     "exception": false,
     "start_time": "2025-07-02T12:00:49.594218",
     "status": "completed"
    },
    "tags": []
   },
   "outputs": [],
   "source": [
    "xx = test_df.drop('id', axis=1) "
   ]
  },
  {
   "cell_type": "code",
   "execution_count": 46,
   "id": "51731bdb",
   "metadata": {
    "execution": {
     "iopub.execute_input": "2025-07-02T12:00:49.649601Z",
     "iopub.status.busy": "2025-07-02T12:00:49.649209Z",
     "iopub.status.idle": "2025-07-02T12:00:49.655725Z",
     "shell.execute_reply": "2025-07-02T12:00:49.654718Z"
    },
    "papermill": {
     "duration": 0.023847,
     "end_time": "2025-07-02T12:00:49.657295",
     "exception": false,
     "start_time": "2025-07-02T12:00:49.633448",
     "status": "completed"
    },
    "tags": []
   },
   "outputs": [
    {
     "data": {
      "text/plain": [
       "(6175, 7)"
      ]
     },
     "execution_count": 46,
     "metadata": {},
     "output_type": "execute_result"
    }
   ],
   "source": [
    "xx.shape"
   ]
  },
  {
   "cell_type": "code",
   "execution_count": 47,
   "id": "8487e15c",
   "metadata": {
    "execution": {
     "iopub.execute_input": "2025-07-02T12:00:49.687541Z",
     "iopub.status.busy": "2025-07-02T12:00:49.687137Z",
     "iopub.status.idle": "2025-07-02T12:00:49.700534Z",
     "shell.execute_reply": "2025-07-02T12:00:49.699416Z"
    },
    "papermill": {
     "duration": 0.030207,
     "end_time": "2025-07-02T12:00:49.702028",
     "exception": false,
     "start_time": "2025-07-02T12:00:49.671821",
     "status": "completed"
    },
    "tags": []
   },
   "outputs": [
    {
     "data": {
      "text/html": [
       "<div>\n",
       "<style scoped>\n",
       "    .dataframe tbody tr th:only-of-type {\n",
       "        vertical-align: middle;\n",
       "    }\n",
       "\n",
       "    .dataframe tbody tr th {\n",
       "        vertical-align: top;\n",
       "    }\n",
       "\n",
       "    .dataframe thead th {\n",
       "        text-align: right;\n",
       "    }\n",
       "</style>\n",
       "<table border=\"1\" class=\"dataframe\">\n",
       "  <thead>\n",
       "    <tr style=\"text-align: right;\">\n",
       "      <th></th>\n",
       "      <th>Time_spent_Alone</th>\n",
       "      <th>Stage_fear</th>\n",
       "      <th>Social_event_attendance</th>\n",
       "      <th>Going_outside</th>\n",
       "      <th>Drained_after_socializing</th>\n",
       "      <th>Friends_circle_size</th>\n",
       "      <th>Post_frequency</th>\n",
       "    </tr>\n",
       "  </thead>\n",
       "  <tbody>\n",
       "    <tr>\n",
       "      <th>0</th>\n",
       "      <td>3.0</td>\n",
       "      <td>No</td>\n",
       "      <td>7.0</td>\n",
       "      <td>4.0</td>\n",
       "      <td>No</td>\n",
       "      <td>6.0</td>\n",
       "      <td>4.982097</td>\n",
       "    </tr>\n",
       "    <tr>\n",
       "      <th>1</th>\n",
       "      <td>2.0</td>\n",
       "      <td>Yes</td>\n",
       "      <td>0.0</td>\n",
       "      <td>0.0</td>\n",
       "      <td>Yes</td>\n",
       "      <td>5.0</td>\n",
       "      <td>1.000000</td>\n",
       "    </tr>\n",
       "    <tr>\n",
       "      <th>2</th>\n",
       "      <td>3.0</td>\n",
       "      <td>No</td>\n",
       "      <td>5.0</td>\n",
       "      <td>6.0</td>\n",
       "      <td>No</td>\n",
       "      <td>15.0</td>\n",
       "      <td>9.000000</td>\n",
       "    </tr>\n",
       "    <tr>\n",
       "      <th>3</th>\n",
       "      <td>3.0</td>\n",
       "      <td>No</td>\n",
       "      <td>4.0</td>\n",
       "      <td>4.0</td>\n",
       "      <td>No</td>\n",
       "      <td>5.0</td>\n",
       "      <td>6.000000</td>\n",
       "    </tr>\n",
       "    <tr>\n",
       "      <th>4</th>\n",
       "      <td>9.0</td>\n",
       "      <td>Yes</td>\n",
       "      <td>1.0</td>\n",
       "      <td>2.0</td>\n",
       "      <td>Yes</td>\n",
       "      <td>1.0</td>\n",
       "      <td>1.000000</td>\n",
       "    </tr>\n",
       "  </tbody>\n",
       "</table>\n",
       "</div>"
      ],
      "text/plain": [
       "   Time_spent_Alone Stage_fear  Social_event_attendance  Going_outside  \\\n",
       "0               3.0         No                      7.0            4.0   \n",
       "1               2.0        Yes                      0.0            0.0   \n",
       "2               3.0         No                      5.0            6.0   \n",
       "3               3.0         No                      4.0            4.0   \n",
       "4               9.0        Yes                      1.0            2.0   \n",
       "\n",
       "  Drained_after_socializing  Friends_circle_size  Post_frequency  \n",
       "0                        No                  6.0        4.982097  \n",
       "1                       Yes                  5.0        1.000000  \n",
       "2                        No                 15.0        9.000000  \n",
       "3                        No                  5.0        6.000000  \n",
       "4                       Yes                  1.0        1.000000  "
      ]
     },
     "execution_count": 47,
     "metadata": {},
     "output_type": "execute_result"
    }
   ],
   "source": [
    "xx.head()"
   ]
  },
  {
   "cell_type": "code",
   "execution_count": 48,
   "id": "577f0f1d",
   "metadata": {
    "execution": {
     "iopub.execute_input": "2025-07-02T12:00:49.735807Z",
     "iopub.status.busy": "2025-07-02T12:00:49.735384Z",
     "iopub.status.idle": "2025-07-02T12:00:49.752175Z",
     "shell.execute_reply": "2025-07-02T12:00:49.751247Z"
    },
    "papermill": {
     "duration": 0.035849,
     "end_time": "2025-07-02T12:00:49.753997",
     "exception": false,
     "start_time": "2025-07-02T12:00:49.718148",
     "status": "completed"
    },
    "tags": []
   },
   "outputs": [],
   "source": [
    "# Step 6: Fit and transform the features using the pipeline\n",
    "X_transformed = pipeline.fit_transform(xx)"
   ]
  },
  {
   "cell_type": "code",
   "execution_count": 49,
   "id": "4ce555d3",
   "metadata": {
    "execution": {
     "iopub.execute_input": "2025-07-02T12:00:49.785874Z",
     "iopub.status.busy": "2025-07-02T12:00:49.785555Z",
     "iopub.status.idle": "2025-07-02T12:00:49.791389Z",
     "shell.execute_reply": "2025-07-02T12:00:49.790402Z"
    },
    "papermill": {
     "duration": 0.023092,
     "end_time": "2025-07-02T12:00:49.793066",
     "exception": false,
     "start_time": "2025-07-02T12:00:49.769974",
     "status": "completed"
    },
    "tags": []
   },
   "outputs": [],
   "source": [
    "# Convert transformed data back to DataFrame for inspection\n",
    "feature_names = (pipeline.named_steps['preprocessor']\n",
    "                    .named_transformers_['cat']\n",
    "                    .named_steps['onehot']\n",
    "                    .get_feature_names_out(categorical_features)).tolist() + numerical_features\n",
    "X_transformed_df = pd.DataFrame(X_transformed, columns=feature_names, index=xx.index)"
   ]
  },
  {
   "cell_type": "code",
   "execution_count": 50,
   "id": "cb9b3c38",
   "metadata": {
    "execution": {
     "iopub.execute_input": "2025-07-02T12:00:49.824424Z",
     "iopub.status.busy": "2025-07-02T12:00:49.824121Z",
     "iopub.status.idle": "2025-07-02T12:00:49.838762Z",
     "shell.execute_reply": "2025-07-02T12:00:49.837474Z"
    },
    "papermill": {
     "duration": 0.032409,
     "end_time": "2025-07-02T12:00:49.840741",
     "exception": false,
     "start_time": "2025-07-02T12:00:49.808332",
     "status": "completed"
    },
    "tags": []
   },
   "outputs": [],
   "source": [
    "y_pred_test= model_pipeline.predict(xx)"
   ]
  },
  {
   "cell_type": "code",
   "execution_count": 51,
   "id": "61e0ede0",
   "metadata": {
    "execution": {
     "iopub.execute_input": "2025-07-02T12:00:49.879642Z",
     "iopub.status.busy": "2025-07-02T12:00:49.879265Z",
     "iopub.status.idle": "2025-07-02T12:00:49.884656Z",
     "shell.execute_reply": "2025-07-02T12:00:49.883464Z"
    },
    "papermill": {
     "duration": 0.024625,
     "end_time": "2025-07-02T12:00:49.886226",
     "exception": false,
     "start_time": "2025-07-02T12:00:49.861601",
     "status": "completed"
    },
    "tags": []
   },
   "outputs": [
    {
     "name": "stdout",
     "output_type": "stream",
     "text": [
      "[1 0 1 1 0]\n"
     ]
    }
   ],
   "source": [
    "print(y_pred_test[:5])\n"
   ]
  },
  {
   "cell_type": "code",
   "execution_count": 52,
   "id": "54b4ed8c",
   "metadata": {
    "execution": {
     "iopub.execute_input": "2025-07-02T12:00:49.917092Z",
     "iopub.status.busy": "2025-07-02T12:00:49.916747Z",
     "iopub.status.idle": "2025-07-02T12:00:49.922686Z",
     "shell.execute_reply": "2025-07-02T12:00:49.921776Z"
    },
    "papermill": {
     "duration": 0.022964,
     "end_time": "2025-07-02T12:00:49.924066",
     "exception": false,
     "start_time": "2025-07-02T12:00:49.901102",
     "status": "completed"
    },
    "tags": []
   },
   "outputs": [
    {
     "data": {
      "text/plain": [
       "(6175,)"
      ]
     },
     "execution_count": 52,
     "metadata": {},
     "output_type": "execute_result"
    }
   ],
   "source": [
    "y_pred_test.shape"
   ]
  },
  {
   "cell_type": "code",
   "execution_count": 53,
   "id": "ae352e0a",
   "metadata": {
    "execution": {
     "iopub.execute_input": "2025-07-02T12:00:49.955924Z",
     "iopub.status.busy": "2025-07-02T12:00:49.955577Z",
     "iopub.status.idle": "2025-07-02T12:00:49.959824Z",
     "shell.execute_reply": "2025-07-02T12:00:49.958872Z"
    },
    "papermill": {
     "duration": 0.022483,
     "end_time": "2025-07-02T12:00:49.961455",
     "exception": false,
     "start_time": "2025-07-02T12:00:49.938972",
     "status": "completed"
    },
    "tags": []
   },
   "outputs": [],
   "source": [
    "# y_labels = ['Extrovert' if val == 1 else 'Introvert' for val in y_pred_test]\n",
    "# y_labels.head()"
   ]
  },
  {
   "cell_type": "code",
   "execution_count": 54,
   "id": "f0f85530",
   "metadata": {
    "execution": {
     "iopub.execute_input": "2025-07-02T12:00:49.992681Z",
     "iopub.status.busy": "2025-07-02T12:00:49.992338Z",
     "iopub.status.idle": "2025-07-02T12:00:49.997940Z",
     "shell.execute_reply": "2025-07-02T12:00:49.996881Z"
    },
    "papermill": {
     "duration": 0.022916,
     "end_time": "2025-07-02T12:00:49.999360",
     "exception": false,
     "start_time": "2025-07-02T12:00:49.976444",
     "status": "completed"
    },
    "tags": []
   },
   "outputs": [
    {
     "name": "stdout",
     "output_type": "stream",
     "text": [
      "['Extrovert' 'Introvert' 'Extrovert' 'Extrovert' 'Introvert']\n"
     ]
    }
   ],
   "source": [
    "y_labels = np.where(y_pred_test == 1, 'Extrovert', 'Introvert')\n",
    "print(y_labels[:5])"
   ]
  },
  {
   "cell_type": "code",
   "execution_count": 55,
   "id": "67e6777f",
   "metadata": {
    "execution": {
     "iopub.execute_input": "2025-07-02T12:00:50.032849Z",
     "iopub.status.busy": "2025-07-02T12:00:50.032484Z",
     "iopub.status.idle": "2025-07-02T12:00:50.039789Z",
     "shell.execute_reply": "2025-07-02T12:00:50.038770Z"
    },
    "papermill": {
     "duration": 0.02671,
     "end_time": "2025-07-02T12:00:50.041473",
     "exception": false,
     "start_time": "2025-07-02T12:00:50.014763",
     "status": "completed"
    },
    "tags": []
   },
   "outputs": [
    {
     "name": "stdout",
     "output_type": "stream",
     "text": [
      "0    Extrovert\n",
      "1    Introvert\n",
      "2    Extrovert\n",
      "3    Extrovert\n",
      "4    Introvert\n",
      "dtype: object\n"
     ]
    }
   ],
   "source": [
    "y_labels_series = pd.Series(y_labels)\n",
    "print(y_labels_series.head())\n"
   ]
  },
  {
   "cell_type": "code",
   "execution_count": 56,
   "id": "8354ba80",
   "metadata": {
    "execution": {
     "iopub.execute_input": "2025-07-02T12:00:50.074396Z",
     "iopub.status.busy": "2025-07-02T12:00:50.074069Z",
     "iopub.status.idle": "2025-07-02T12:00:50.089026Z",
     "shell.execute_reply": "2025-07-02T12:00:50.088012Z"
    },
    "papermill": {
     "duration": 0.034058,
     "end_time": "2025-07-02T12:00:50.090770",
     "exception": false,
     "start_time": "2025-07-02T12:00:50.056712",
     "status": "completed"
    },
    "tags": []
   },
   "outputs": [],
   "source": [
    "# Step 1: Load your CSV\n",
    "submission= pd.read_csv(\"/kaggle/input/int-and-ext/sample_submission.csv\")  # Replace with actual file name"
   ]
  },
  {
   "cell_type": "code",
   "execution_count": 57,
   "id": "38ec772e",
   "metadata": {
    "execution": {
     "iopub.execute_input": "2025-07-02T12:00:50.124381Z",
     "iopub.status.busy": "2025-07-02T12:00:50.124006Z",
     "iopub.status.idle": "2025-07-02T12:00:50.133468Z",
     "shell.execute_reply": "2025-07-02T12:00:50.132407Z"
    },
    "papermill": {
     "duration": 0.028249,
     "end_time": "2025-07-02T12:00:50.135131",
     "exception": false,
     "start_time": "2025-07-02T12:00:50.106882",
     "status": "completed"
    },
    "tags": []
   },
   "outputs": [
    {
     "data": {
      "text/html": [
       "<div>\n",
       "<style scoped>\n",
       "    .dataframe tbody tr th:only-of-type {\n",
       "        vertical-align: middle;\n",
       "    }\n",
       "\n",
       "    .dataframe tbody tr th {\n",
       "        vertical-align: top;\n",
       "    }\n",
       "\n",
       "    .dataframe thead th {\n",
       "        text-align: right;\n",
       "    }\n",
       "</style>\n",
       "<table border=\"1\" class=\"dataframe\">\n",
       "  <thead>\n",
       "    <tr style=\"text-align: right;\">\n",
       "      <th></th>\n",
       "      <th>id</th>\n",
       "      <th>Personality</th>\n",
       "    </tr>\n",
       "  </thead>\n",
       "  <tbody>\n",
       "    <tr>\n",
       "      <th>0</th>\n",
       "      <td>18524</td>\n",
       "      <td>Extrovert</td>\n",
       "    </tr>\n",
       "    <tr>\n",
       "      <th>1</th>\n",
       "      <td>18525</td>\n",
       "      <td>Extrovert</td>\n",
       "    </tr>\n",
       "    <tr>\n",
       "      <th>2</th>\n",
       "      <td>18526</td>\n",
       "      <td>Extrovert</td>\n",
       "    </tr>\n",
       "    <tr>\n",
       "      <th>3</th>\n",
       "      <td>18527</td>\n",
       "      <td>Extrovert</td>\n",
       "    </tr>\n",
       "    <tr>\n",
       "      <th>4</th>\n",
       "      <td>18528</td>\n",
       "      <td>Extrovert</td>\n",
       "    </tr>\n",
       "  </tbody>\n",
       "</table>\n",
       "</div>"
      ],
      "text/plain": [
       "      id Personality\n",
       "0  18524   Extrovert\n",
       "1  18525   Extrovert\n",
       "2  18526   Extrovert\n",
       "3  18527   Extrovert\n",
       "4  18528   Extrovert"
      ]
     },
     "execution_count": 57,
     "metadata": {},
     "output_type": "execute_result"
    }
   ],
   "source": [
    "submission.head()"
   ]
  },
  {
   "cell_type": "code",
   "execution_count": 58,
   "id": "33c2bb96",
   "metadata": {
    "execution": {
     "iopub.execute_input": "2025-07-02T12:00:50.168123Z",
     "iopub.status.busy": "2025-07-02T12:00:50.167293Z",
     "iopub.status.idle": "2025-07-02T12:00:50.172989Z",
     "shell.execute_reply": "2025-07-02T12:00:50.172045Z"
    },
    "papermill": {
     "duration": 0.023793,
     "end_time": "2025-07-02T12:00:50.174465",
     "exception": false,
     "start_time": "2025-07-02T12:00:50.150672",
     "status": "completed"
    },
    "tags": []
   },
   "outputs": [
    {
     "data": {
      "text/plain": [
       "(6175, 2)"
      ]
     },
     "execution_count": 58,
     "metadata": {},
     "output_type": "execute_result"
    }
   ],
   "source": [
    "submission.shape"
   ]
  },
  {
   "cell_type": "code",
   "execution_count": 59,
   "id": "d203d096",
   "metadata": {
    "execution": {
     "iopub.execute_input": "2025-07-02T12:00:50.208316Z",
     "iopub.status.busy": "2025-07-02T12:00:50.207850Z",
     "iopub.status.idle": "2025-07-02T12:00:50.213966Z",
     "shell.execute_reply": "2025-07-02T12:00:50.212893Z"
    },
    "papermill": {
     "duration": 0.0254,
     "end_time": "2025-07-02T12:00:50.215633",
     "exception": false,
     "start_time": "2025-07-02T12:00:50.190233",
     "status": "completed"
    },
    "tags": []
   },
   "outputs": [],
   "source": [
    "y_labels = ['Extrovert' if val == 1 else 'Introvert' for val in y_pred_test]"
   ]
  },
  {
   "cell_type": "code",
   "execution_count": 60,
   "id": "55eee83a",
   "metadata": {
    "execution": {
     "iopub.execute_input": "2025-07-02T12:00:50.249366Z",
     "iopub.status.busy": "2025-07-02T12:00:50.249070Z",
     "iopub.status.idle": "2025-07-02T12:00:50.254717Z",
     "shell.execute_reply": "2025-07-02T12:00:50.253414Z"
    },
    "papermill": {
     "duration": 0.024594,
     "end_time": "2025-07-02T12:00:50.256465",
     "exception": false,
     "start_time": "2025-07-02T12:00:50.231871",
     "status": "completed"
    },
    "tags": []
   },
   "outputs": [],
   "source": [
    "submission['Personality'] = y_labels "
   ]
  },
  {
   "cell_type": "code",
   "execution_count": 61,
   "id": "f68632f4",
   "metadata": {
    "execution": {
     "iopub.execute_input": "2025-07-02T12:00:50.289295Z",
     "iopub.status.busy": "2025-07-02T12:00:50.288968Z",
     "iopub.status.idle": "2025-07-02T12:00:50.294952Z",
     "shell.execute_reply": "2025-07-02T12:00:50.294014Z"
    },
    "papermill": {
     "duration": 0.024549,
     "end_time": "2025-07-02T12:00:50.296615",
     "exception": false,
     "start_time": "2025-07-02T12:00:50.272066",
     "status": "completed"
    },
    "tags": []
   },
   "outputs": [
    {
     "data": {
      "text/plain": [
       "(6175, 2)"
      ]
     },
     "execution_count": 61,
     "metadata": {},
     "output_type": "execute_result"
    }
   ],
   "source": [
    "submission.shape"
   ]
  },
  {
   "cell_type": "code",
   "execution_count": 62,
   "id": "cf970571",
   "metadata": {
    "execution": {
     "iopub.execute_input": "2025-07-02T12:00:50.332590Z",
     "iopub.status.busy": "2025-07-02T12:00:50.332136Z",
     "iopub.status.idle": "2025-07-02T12:00:50.341568Z",
     "shell.execute_reply": "2025-07-02T12:00:50.340510Z"
    },
    "papermill": {
     "duration": 0.030261,
     "end_time": "2025-07-02T12:00:50.343208",
     "exception": false,
     "start_time": "2025-07-02T12:00:50.312947",
     "status": "completed"
    },
    "tags": []
   },
   "outputs": [
    {
     "data": {
      "text/html": [
       "<div>\n",
       "<style scoped>\n",
       "    .dataframe tbody tr th:only-of-type {\n",
       "        vertical-align: middle;\n",
       "    }\n",
       "\n",
       "    .dataframe tbody tr th {\n",
       "        vertical-align: top;\n",
       "    }\n",
       "\n",
       "    .dataframe thead th {\n",
       "        text-align: right;\n",
       "    }\n",
       "</style>\n",
       "<table border=\"1\" class=\"dataframe\">\n",
       "  <thead>\n",
       "    <tr style=\"text-align: right;\">\n",
       "      <th></th>\n",
       "      <th>id</th>\n",
       "      <th>Personality</th>\n",
       "    </tr>\n",
       "  </thead>\n",
       "  <tbody>\n",
       "    <tr>\n",
       "      <th>0</th>\n",
       "      <td>18524</td>\n",
       "      <td>Extrovert</td>\n",
       "    </tr>\n",
       "    <tr>\n",
       "      <th>1</th>\n",
       "      <td>18525</td>\n",
       "      <td>Introvert</td>\n",
       "    </tr>\n",
       "    <tr>\n",
       "      <th>2</th>\n",
       "      <td>18526</td>\n",
       "      <td>Extrovert</td>\n",
       "    </tr>\n",
       "    <tr>\n",
       "      <th>3</th>\n",
       "      <td>18527</td>\n",
       "      <td>Extrovert</td>\n",
       "    </tr>\n",
       "    <tr>\n",
       "      <th>4</th>\n",
       "      <td>18528</td>\n",
       "      <td>Introvert</td>\n",
       "    </tr>\n",
       "    <tr>\n",
       "      <th>5</th>\n",
       "      <td>18529</td>\n",
       "      <td>Extrovert</td>\n",
       "    </tr>\n",
       "    <tr>\n",
       "      <th>6</th>\n",
       "      <td>18530</td>\n",
       "      <td>Extrovert</td>\n",
       "    </tr>\n",
       "    <tr>\n",
       "      <th>7</th>\n",
       "      <td>18531</td>\n",
       "      <td>Introvert</td>\n",
       "    </tr>\n",
       "    <tr>\n",
       "      <th>8</th>\n",
       "      <td>18532</td>\n",
       "      <td>Extrovert</td>\n",
       "    </tr>\n",
       "    <tr>\n",
       "      <th>9</th>\n",
       "      <td>18533</td>\n",
       "      <td>Introvert</td>\n",
       "    </tr>\n",
       "  </tbody>\n",
       "</table>\n",
       "</div>"
      ],
      "text/plain": [
       "      id Personality\n",
       "0  18524   Extrovert\n",
       "1  18525   Introvert\n",
       "2  18526   Extrovert\n",
       "3  18527   Extrovert\n",
       "4  18528   Introvert\n",
       "5  18529   Extrovert\n",
       "6  18530   Extrovert\n",
       "7  18531   Introvert\n",
       "8  18532   Extrovert\n",
       "9  18533   Introvert"
      ]
     },
     "execution_count": 62,
     "metadata": {},
     "output_type": "execute_result"
    }
   ],
   "source": [
    "submission.head(10)"
   ]
  },
  {
   "cell_type": "code",
   "execution_count": 63,
   "id": "18b2bfdc",
   "metadata": {
    "execution": {
     "iopub.execute_input": "2025-07-02T12:00:50.376453Z",
     "iopub.status.busy": "2025-07-02T12:00:50.376164Z",
     "iopub.status.idle": "2025-07-02T12:00:50.394686Z",
     "shell.execute_reply": "2025-07-02T12:00:50.393394Z"
    },
    "papermill": {
     "duration": 0.036623,
     "end_time": "2025-07-02T12:00:50.396182",
     "exception": false,
     "start_time": "2025-07-02T12:00:50.359559",
     "status": "completed"
    },
    "tags": []
   },
   "outputs": [
    {
     "name": "stdout",
     "output_type": "stream",
     "text": [
      "✅ CSV updated successfully!\n"
     ]
    }
   ],
   "source": [
    "\n",
    "\n",
    "\n",
    "\n",
    "# Step 4: Save the updated CSV\n",
    "submission.to_csv(\"updated_file_new.csv\", index=False)\n",
    "\n",
    "print(\"✅ CSV updated successfully!\")"
   ]
  },
  {
   "cell_type": "code",
   "execution_count": 64,
   "id": "589f7ce6",
   "metadata": {
    "execution": {
     "iopub.execute_input": "2025-07-02T12:00:50.429849Z",
     "iopub.status.busy": "2025-07-02T12:00:50.429465Z",
     "iopub.status.idle": "2025-07-02T12:00:50.625552Z",
     "shell.execute_reply": "2025-07-02T12:00:50.624451Z"
    },
    "papermill": {
     "duration": 0.215948,
     "end_time": "2025-07-02T12:00:50.627816",
     "exception": false,
     "start_time": "2025-07-02T12:00:50.411868",
     "status": "completed"
    },
    "tags": []
   },
   "outputs": [],
   "source": [
    "from sklearn.ensemble import RandomForestClassifier\n",
    "model_pipeline_random_forest = Pipeline([\n",
    "    ('preprocessor', preprocessor),\n",
    "    ('classifier', RandomForestClassifier(random_state=42))\n",
    "])"
   ]
  },
  {
   "cell_type": "code",
   "execution_count": 65,
   "id": "4d8491c7",
   "metadata": {
    "execution": {
     "iopub.execute_input": "2025-07-02T12:00:50.660510Z",
     "iopub.status.busy": "2025-07-02T12:00:50.660152Z",
     "iopub.status.idle": "2025-07-02T12:00:51.654812Z",
     "shell.execute_reply": "2025-07-02T12:00:51.653764Z"
    },
    "papermill": {
     "duration": 1.013255,
     "end_time": "2025-07-02T12:00:51.656881",
     "exception": false,
     "start_time": "2025-07-02T12:00:50.643626",
     "status": "completed"
    },
    "tags": []
   },
   "outputs": [
    {
     "data": {
      "text/html": [
       "<style>#sk-container-id-2 {color: black;background-color: white;}#sk-container-id-2 pre{padding: 0;}#sk-container-id-2 div.sk-toggleable {background-color: white;}#sk-container-id-2 label.sk-toggleable__label {cursor: pointer;display: block;width: 100%;margin-bottom: 0;padding: 0.3em;box-sizing: border-box;text-align: center;}#sk-container-id-2 label.sk-toggleable__label-arrow:before {content: \"▸\";float: left;margin-right: 0.25em;color: #696969;}#sk-container-id-2 label.sk-toggleable__label-arrow:hover:before {color: black;}#sk-container-id-2 div.sk-estimator:hover label.sk-toggleable__label-arrow:before {color: black;}#sk-container-id-2 div.sk-toggleable__content {max-height: 0;max-width: 0;overflow: hidden;text-align: left;background-color: #f0f8ff;}#sk-container-id-2 div.sk-toggleable__content pre {margin: 0.2em;color: black;border-radius: 0.25em;background-color: #f0f8ff;}#sk-container-id-2 input.sk-toggleable__control:checked~div.sk-toggleable__content {max-height: 200px;max-width: 100%;overflow: auto;}#sk-container-id-2 input.sk-toggleable__control:checked~label.sk-toggleable__label-arrow:before {content: \"▾\";}#sk-container-id-2 div.sk-estimator input.sk-toggleable__control:checked~label.sk-toggleable__label {background-color: #d4ebff;}#sk-container-id-2 div.sk-label input.sk-toggleable__control:checked~label.sk-toggleable__label {background-color: #d4ebff;}#sk-container-id-2 input.sk-hidden--visually {border: 0;clip: rect(1px 1px 1px 1px);clip: rect(1px, 1px, 1px, 1px);height: 1px;margin: -1px;overflow: hidden;padding: 0;position: absolute;width: 1px;}#sk-container-id-2 div.sk-estimator {font-family: monospace;background-color: #f0f8ff;border: 1px dotted black;border-radius: 0.25em;box-sizing: border-box;margin-bottom: 0.5em;}#sk-container-id-2 div.sk-estimator:hover {background-color: #d4ebff;}#sk-container-id-2 div.sk-parallel-item::after {content: \"\";width: 100%;border-bottom: 1px solid gray;flex-grow: 1;}#sk-container-id-2 div.sk-label:hover label.sk-toggleable__label {background-color: #d4ebff;}#sk-container-id-2 div.sk-serial::before {content: \"\";position: absolute;border-left: 1px solid gray;box-sizing: border-box;top: 0;bottom: 0;left: 50%;z-index: 0;}#sk-container-id-2 div.sk-serial {display: flex;flex-direction: column;align-items: center;background-color: white;padding-right: 0.2em;padding-left: 0.2em;position: relative;}#sk-container-id-2 div.sk-item {position: relative;z-index: 1;}#sk-container-id-2 div.sk-parallel {display: flex;align-items: stretch;justify-content: center;background-color: white;position: relative;}#sk-container-id-2 div.sk-item::before, #sk-container-id-2 div.sk-parallel-item::before {content: \"\";position: absolute;border-left: 1px solid gray;box-sizing: border-box;top: 0;bottom: 0;left: 50%;z-index: -1;}#sk-container-id-2 div.sk-parallel-item {display: flex;flex-direction: column;z-index: 1;position: relative;background-color: white;}#sk-container-id-2 div.sk-parallel-item:first-child::after {align-self: flex-end;width: 50%;}#sk-container-id-2 div.sk-parallel-item:last-child::after {align-self: flex-start;width: 50%;}#sk-container-id-2 div.sk-parallel-item:only-child::after {width: 0;}#sk-container-id-2 div.sk-dashed-wrapped {border: 1px dashed gray;margin: 0 0.4em 0.5em 0.4em;box-sizing: border-box;padding-bottom: 0.4em;background-color: white;}#sk-container-id-2 div.sk-label label {font-family: monospace;font-weight: bold;display: inline-block;line-height: 1.2em;}#sk-container-id-2 div.sk-label-container {text-align: center;}#sk-container-id-2 div.sk-container {/* jupyter's `normalize.less` sets `[hidden] { display: none; }` but bootstrap.min.css set `[hidden] { display: none !important; }` so we also need the `!important` here to be able to override the default hidden behavior on the sphinx rendered scikit-learn.org. See: https://github.com/scikit-learn/scikit-learn/issues/21755 */display: inline-block !important;position: relative;}#sk-container-id-2 div.sk-text-repr-fallback {display: none;}</style><div id=\"sk-container-id-2\" class=\"sk-top-container\"><div class=\"sk-text-repr-fallback\"><pre>Pipeline(steps=[(&#x27;preprocessor&#x27;,\n",
       "                 ColumnTransformer(transformers=[(&#x27;cat&#x27;,\n",
       "                                                  Pipeline(steps=[(&#x27;onehot&#x27;,\n",
       "                                                                   OneHotEncoder(drop=&#x27;first&#x27;,\n",
       "                                                                                 handle_unknown=&#x27;ignore&#x27;,\n",
       "                                                                                 sparse_output=False))]),\n",
       "                                                  [&#x27;Stage_fear&#x27;,\n",
       "                                                   &#x27;Drained_after_socializing&#x27;]),\n",
       "                                                 (&#x27;num&#x27;,\n",
       "                                                  Pipeline(steps=[(&#x27;scaler&#x27;,\n",
       "                                                                   StandardScaler())]),\n",
       "                                                  [&#x27;Time_spent_Alone&#x27;,\n",
       "                                                   &#x27;Social_event_attendance&#x27;,\n",
       "                                                   &#x27;Going_outside&#x27;,\n",
       "                                                   &#x27;Friends_circle_size&#x27;,\n",
       "                                                   &#x27;Post_frequency&#x27;])])),\n",
       "                (&#x27;classifier&#x27;, RandomForestClassifier(random_state=42))])</pre><b>In a Jupyter environment, please rerun this cell to show the HTML representation or trust the notebook. <br />On GitHub, the HTML representation is unable to render, please try loading this page with nbviewer.org.</b></div><div class=\"sk-container\" hidden><div class=\"sk-item sk-dashed-wrapped\"><div class=\"sk-label-container\"><div class=\"sk-label sk-toggleable\"><input class=\"sk-toggleable__control sk-hidden--visually\" id=\"sk-estimator-id-8\" type=\"checkbox\" ><label for=\"sk-estimator-id-8\" class=\"sk-toggleable__label sk-toggleable__label-arrow\">Pipeline</label><div class=\"sk-toggleable__content\"><pre>Pipeline(steps=[(&#x27;preprocessor&#x27;,\n",
       "                 ColumnTransformer(transformers=[(&#x27;cat&#x27;,\n",
       "                                                  Pipeline(steps=[(&#x27;onehot&#x27;,\n",
       "                                                                   OneHotEncoder(drop=&#x27;first&#x27;,\n",
       "                                                                                 handle_unknown=&#x27;ignore&#x27;,\n",
       "                                                                                 sparse_output=False))]),\n",
       "                                                  [&#x27;Stage_fear&#x27;,\n",
       "                                                   &#x27;Drained_after_socializing&#x27;]),\n",
       "                                                 (&#x27;num&#x27;,\n",
       "                                                  Pipeline(steps=[(&#x27;scaler&#x27;,\n",
       "                                                                   StandardScaler())]),\n",
       "                                                  [&#x27;Time_spent_Alone&#x27;,\n",
       "                                                   &#x27;Social_event_attendance&#x27;,\n",
       "                                                   &#x27;Going_outside&#x27;,\n",
       "                                                   &#x27;Friends_circle_size&#x27;,\n",
       "                                                   &#x27;Post_frequency&#x27;])])),\n",
       "                (&#x27;classifier&#x27;, RandomForestClassifier(random_state=42))])</pre></div></div></div><div class=\"sk-serial\"><div class=\"sk-item sk-dashed-wrapped\"><div class=\"sk-label-container\"><div class=\"sk-label sk-toggleable\"><input class=\"sk-toggleable__control sk-hidden--visually\" id=\"sk-estimator-id-9\" type=\"checkbox\" ><label for=\"sk-estimator-id-9\" class=\"sk-toggleable__label sk-toggleable__label-arrow\">preprocessor: ColumnTransformer</label><div class=\"sk-toggleable__content\"><pre>ColumnTransformer(transformers=[(&#x27;cat&#x27;,\n",
       "                                 Pipeline(steps=[(&#x27;onehot&#x27;,\n",
       "                                                  OneHotEncoder(drop=&#x27;first&#x27;,\n",
       "                                                                handle_unknown=&#x27;ignore&#x27;,\n",
       "                                                                sparse_output=False))]),\n",
       "                                 [&#x27;Stage_fear&#x27;, &#x27;Drained_after_socializing&#x27;]),\n",
       "                                (&#x27;num&#x27;,\n",
       "                                 Pipeline(steps=[(&#x27;scaler&#x27;, StandardScaler())]),\n",
       "                                 [&#x27;Time_spent_Alone&#x27;, &#x27;Social_event_attendance&#x27;,\n",
       "                                  &#x27;Going_outside&#x27;, &#x27;Friends_circle_size&#x27;,\n",
       "                                  &#x27;Post_frequency&#x27;])])</pre></div></div></div><div class=\"sk-parallel\"><div class=\"sk-parallel-item\"><div class=\"sk-item\"><div class=\"sk-label-container\"><div class=\"sk-label sk-toggleable\"><input class=\"sk-toggleable__control sk-hidden--visually\" id=\"sk-estimator-id-10\" type=\"checkbox\" ><label for=\"sk-estimator-id-10\" class=\"sk-toggleable__label sk-toggleable__label-arrow\">cat</label><div class=\"sk-toggleable__content\"><pre>[&#x27;Stage_fear&#x27;, &#x27;Drained_after_socializing&#x27;]</pre></div></div></div><div class=\"sk-serial\"><div class=\"sk-item\"><div class=\"sk-serial\"><div class=\"sk-item\"><div class=\"sk-estimator sk-toggleable\"><input class=\"sk-toggleable__control sk-hidden--visually\" id=\"sk-estimator-id-11\" type=\"checkbox\" ><label for=\"sk-estimator-id-11\" class=\"sk-toggleable__label sk-toggleable__label-arrow\">OneHotEncoder</label><div class=\"sk-toggleable__content\"><pre>OneHotEncoder(drop=&#x27;first&#x27;, handle_unknown=&#x27;ignore&#x27;, sparse_output=False)</pre></div></div></div></div></div></div></div></div><div class=\"sk-parallel-item\"><div class=\"sk-item\"><div class=\"sk-label-container\"><div class=\"sk-label sk-toggleable\"><input class=\"sk-toggleable__control sk-hidden--visually\" id=\"sk-estimator-id-12\" type=\"checkbox\" ><label for=\"sk-estimator-id-12\" class=\"sk-toggleable__label sk-toggleable__label-arrow\">num</label><div class=\"sk-toggleable__content\"><pre>[&#x27;Time_spent_Alone&#x27;, &#x27;Social_event_attendance&#x27;, &#x27;Going_outside&#x27;, &#x27;Friends_circle_size&#x27;, &#x27;Post_frequency&#x27;]</pre></div></div></div><div class=\"sk-serial\"><div class=\"sk-item\"><div class=\"sk-serial\"><div class=\"sk-item\"><div class=\"sk-estimator sk-toggleable\"><input class=\"sk-toggleable__control sk-hidden--visually\" id=\"sk-estimator-id-13\" type=\"checkbox\" ><label for=\"sk-estimator-id-13\" class=\"sk-toggleable__label sk-toggleable__label-arrow\">StandardScaler</label><div class=\"sk-toggleable__content\"><pre>StandardScaler()</pre></div></div></div></div></div></div></div></div></div></div><div class=\"sk-item\"><div class=\"sk-estimator sk-toggleable\"><input class=\"sk-toggleable__control sk-hidden--visually\" id=\"sk-estimator-id-14\" type=\"checkbox\" ><label for=\"sk-estimator-id-14\" class=\"sk-toggleable__label sk-toggleable__label-arrow\">RandomForestClassifier</label><div class=\"sk-toggleable__content\"><pre>RandomForestClassifier(random_state=42)</pre></div></div></div></div></div></div></div>"
      ],
      "text/plain": [
       "Pipeline(steps=[('preprocessor',\n",
       "                 ColumnTransformer(transformers=[('cat',\n",
       "                                                  Pipeline(steps=[('onehot',\n",
       "                                                                   OneHotEncoder(drop='first',\n",
       "                                                                                 handle_unknown='ignore',\n",
       "                                                                                 sparse_output=False))]),\n",
       "                                                  ['Stage_fear',\n",
       "                                                   'Drained_after_socializing']),\n",
       "                                                 ('num',\n",
       "                                                  Pipeline(steps=[('scaler',\n",
       "                                                                   StandardScaler())]),\n",
       "                                                  ['Time_spent_Alone',\n",
       "                                                   'Social_event_attendance',\n",
       "                                                   'Going_outside',\n",
       "                                                   'Friends_circle_size',\n",
       "                                                   'Post_frequency'])])),\n",
       "                ('classifier', RandomForestClassifier(random_state=42))])"
      ]
     },
     "execution_count": 65,
     "metadata": {},
     "output_type": "execute_result"
    }
   ],
   "source": [
    "# Step 7: Train the model\n",
    "model_pipeline_random_forest.fit(X_train, y_train)"
   ]
  },
  {
   "cell_type": "code",
   "execution_count": 66,
   "id": "976f13ad",
   "metadata": {
    "execution": {
     "iopub.execute_input": "2025-07-02T12:00:51.691216Z",
     "iopub.status.busy": "2025-07-02T12:00:51.690859Z",
     "iopub.status.idle": "2025-07-02T12:00:51.771438Z",
     "shell.execute_reply": "2025-07-02T12:00:51.770475Z"
    },
    "papermill": {
     "duration": 0.099922,
     "end_time": "2025-07-02T12:00:51.773197",
     "exception": false,
     "start_time": "2025-07-02T12:00:51.673275",
     "status": "completed"
    },
    "tags": []
   },
   "outputs": [],
   "source": [
    "# Step 8: Make predictions\n",
    "y_pred_rf = model_pipeline_random_forest.predict(X_test)"
   ]
  },
  {
   "cell_type": "code",
   "execution_count": 67,
   "id": "648bb942",
   "metadata": {
    "execution": {
     "iopub.execute_input": "2025-07-02T12:00:51.809462Z",
     "iopub.status.busy": "2025-07-02T12:00:51.808651Z",
     "iopub.status.idle": "2025-07-02T12:00:51.821316Z",
     "shell.execute_reply": "2025-07-02T12:00:51.820393Z"
    },
    "papermill": {
     "duration": 0.032654,
     "end_time": "2025-07-02T12:00:51.823062",
     "exception": false,
     "start_time": "2025-07-02T12:00:51.790408",
     "status": "completed"
    },
    "tags": []
   },
   "outputs": [],
   "source": [
    "# Step 9: Calculate metrics\n",
    "accuracy = accuracy_score(y_test, y_pred_rf)\n",
    "error_rate = 1 - accuracy\n",
    "f1 = f1_score(y_test, y_pred_rf)\n",
    "mae = mean_absolute_error(y_test, y_pred_rf)\n",
    "conf_matrix = confusion_matrix(y_test, y_pred_rf)"
   ]
  },
  {
   "cell_type": "code",
   "execution_count": 68,
   "id": "1e6174a6",
   "metadata": {
    "execution": {
     "iopub.execute_input": "2025-07-02T12:00:51.858625Z",
     "iopub.status.busy": "2025-07-02T12:00:51.858245Z",
     "iopub.status.idle": "2025-07-02T12:00:51.876455Z",
     "shell.execute_reply": "2025-07-02T12:00:51.875491Z"
    },
    "papermill": {
     "duration": 0.037758,
     "end_time": "2025-07-02T12:00:51.878125",
     "exception": false,
     "start_time": "2025-07-02T12:00:51.840367",
     "status": "completed"
    },
    "tags": []
   },
   "outputs": [
    {
     "name": "stdout",
     "output_type": "stream",
     "text": [
      "Evaluation Metrics:\n",
      "Accuracy: 0.9601\n",
      "Error Rate: 0.0399\n",
      "F1 Score: 0.9732\n",
      "Mean Absolute Error (MAE): 0.0399\n",
      "\n",
      "Confusion Matrix:\n",
      "[[ 874   91]\n",
      " [  57 2683]]\n",
      "\n",
      "Classification Report:\n",
      "              precision    recall  f1-score   support\n",
      "\n",
      "          No       0.94      0.92      0.93       965\n",
      "         Yes       0.97      0.98      0.98      2740\n",
      "\n",
      "    accuracy                           0.97      3705\n",
      "   macro avg       0.96      0.95      0.96      3705\n",
      "weighted avg       0.97      0.97      0.97      3705\n",
      "\n"
     ]
    }
   ],
   "source": [
    "# Print metrics\n",
    "print(\"Evaluation Metrics:\")\n",
    "print(f\"Accuracy: {accuracy:.4f}\")\n",
    "print(f\"Error Rate: {error_rate:.4f}\")\n",
    "print(f\"F1 Score: {f1:.4f}\")\n",
    "print(f\"Mean Absolute Error (MAE): {mae:.4f}\")\n",
    "print(\"\\nConfusion Matrix:\")\n",
    "print(conf_matrix)\n",
    "print(\"\\nClassification Report:\")\n",
    "print(classification_report(y_test, y_pred, target_names=['No', 'Yes']))"
   ]
  },
  {
   "cell_type": "code",
   "execution_count": 69,
   "id": "4c16917e",
   "metadata": {
    "execution": {
     "iopub.execute_input": "2025-07-02T12:00:51.916874Z",
     "iopub.status.busy": "2025-07-02T12:00:51.916491Z",
     "iopub.status.idle": "2025-07-02T12:00:52.033535Z",
     "shell.execute_reply": "2025-07-02T12:00:52.032418Z"
    },
    "papermill": {
     "duration": 0.139848,
     "end_time": "2025-07-02T12:00:52.035320",
     "exception": false,
     "start_time": "2025-07-02T12:00:51.895472",
     "status": "completed"
    },
    "tags": []
   },
   "outputs": [],
   "source": [
    "y_pred_test_rf= model_pipeline_random_forest.predict(xx)"
   ]
  },
  {
   "cell_type": "code",
   "execution_count": 70,
   "id": "9a84660b",
   "metadata": {
    "execution": {
     "iopub.execute_input": "2025-07-02T12:00:52.072273Z",
     "iopub.status.busy": "2025-07-02T12:00:52.071936Z",
     "iopub.status.idle": "2025-07-02T12:00:52.077809Z",
     "shell.execute_reply": "2025-07-02T12:00:52.076764Z"
    },
    "papermill": {
     "duration": 0.02676,
     "end_time": "2025-07-02T12:00:52.079338",
     "exception": false,
     "start_time": "2025-07-02T12:00:52.052578",
     "status": "completed"
    },
    "tags": []
   },
   "outputs": [
    {
     "data": {
      "text/plain": [
       "(6175,)"
      ]
     },
     "execution_count": 70,
     "metadata": {},
     "output_type": "execute_result"
    }
   ],
   "source": [
    "y_pred_test_rf.shape"
   ]
  },
  {
   "cell_type": "code",
   "execution_count": 71,
   "id": "4cabda65",
   "metadata": {
    "execution": {
     "iopub.execute_input": "2025-07-02T12:00:52.115849Z",
     "iopub.status.busy": "2025-07-02T12:00:52.115512Z",
     "iopub.status.idle": "2025-07-02T12:00:52.120985Z",
     "shell.execute_reply": "2025-07-02T12:00:52.120082Z"
    },
    "papermill": {
     "duration": 0.025631,
     "end_time": "2025-07-02T12:00:52.122615",
     "exception": false,
     "start_time": "2025-07-02T12:00:52.096984",
     "status": "completed"
    },
    "tags": []
   },
   "outputs": [
    {
     "name": "stdout",
     "output_type": "stream",
     "text": [
      "['Extrovert' 'Introvert' 'Extrovert' 'Extrovert' 'Introvert']\n"
     ]
    }
   ],
   "source": [
    "y_labels_rf = np.where(y_pred_test_rf == 1, 'Extrovert', 'Introvert')\n",
    "print(y_labels_rf[:5])"
   ]
  },
  {
   "cell_type": "code",
   "execution_count": 72,
   "id": "9d660ab2",
   "metadata": {
    "execution": {
     "iopub.execute_input": "2025-07-02T12:00:52.158430Z",
     "iopub.status.busy": "2025-07-02T12:00:52.158095Z",
     "iopub.status.idle": "2025-07-02T12:00:52.166560Z",
     "shell.execute_reply": "2025-07-02T12:00:52.165577Z"
    },
    "papermill": {
     "duration": 0.028226,
     "end_time": "2025-07-02T12:00:52.168194",
     "exception": false,
     "start_time": "2025-07-02T12:00:52.139968",
     "status": "completed"
    },
    "tags": []
   },
   "outputs": [],
   "source": [
    "# Step 1: Load your CSV\n",
    "sub= pd.read_csv(\"/kaggle/input/int-and-ext/sample_submission.csv\")  # Replace with actual file name"
   ]
  },
  {
   "cell_type": "code",
   "execution_count": 73,
   "id": "48ad900c",
   "metadata": {
    "execution": {
     "iopub.execute_input": "2025-07-02T12:00:52.204351Z",
     "iopub.status.busy": "2025-07-02T12:00:52.204050Z",
     "iopub.status.idle": "2025-07-02T12:00:52.211746Z",
     "shell.execute_reply": "2025-07-02T12:00:52.210726Z"
    },
    "papermill": {
     "duration": 0.027372,
     "end_time": "2025-07-02T12:00:52.213089",
     "exception": false,
     "start_time": "2025-07-02T12:00:52.185717",
     "status": "completed"
    },
    "tags": []
   },
   "outputs": [
    {
     "data": {
      "text/plain": [
       "(6175, 2)"
      ]
     },
     "execution_count": 73,
     "metadata": {},
     "output_type": "execute_result"
    }
   ],
   "source": [
    "sub['Personality'] = y_labels_rf\n",
    "sub.shape"
   ]
  },
  {
   "cell_type": "code",
   "execution_count": 74,
   "id": "2e0464fd",
   "metadata": {
    "execution": {
     "iopub.execute_input": "2025-07-02T12:00:52.250108Z",
     "iopub.status.busy": "2025-07-02T12:00:52.249794Z",
     "iopub.status.idle": "2025-07-02T12:00:52.264062Z",
     "shell.execute_reply": "2025-07-02T12:00:52.263155Z"
    },
    "papermill": {
     "duration": 0.034704,
     "end_time": "2025-07-02T12:00:52.265412",
     "exception": false,
     "start_time": "2025-07-02T12:00:52.230708",
     "status": "completed"
    },
    "tags": []
   },
   "outputs": [
    {
     "name": "stdout",
     "output_type": "stream",
     "text": [
      "✅ CSV updated successfully!\n"
     ]
    }
   ],
   "source": [
    "# Step 4: Save the updated CSV\n",
    "sub.to_csv(\"updated_file_rf.csv\", index=False)\n",
    "\n",
    "print(\"✅ CSV updated successfully!\")"
   ]
  },
  {
   "cell_type": "code",
   "execution_count": null,
   "id": "d3a559a0",
   "metadata": {
    "papermill": {
     "duration": 0.017071,
     "end_time": "2025-07-02T12:00:52.299981",
     "exception": false,
     "start_time": "2025-07-02T12:00:52.282910",
     "status": "completed"
    },
    "tags": []
   },
   "outputs": [],
   "source": []
  }
 ],
 "metadata": {
  "kaggle": {
   "accelerator": "none",
   "dataSources": [
    {
     "datasetId": 7786674,
     "sourceId": 12351179,
     "sourceType": "datasetVersion"
    }
   ],
   "dockerImageVersionId": 31040,
   "isGpuEnabled": false,
   "isInternetEnabled": true,
   "language": "python",
   "sourceType": "notebook"
  },
  "kernelspec": {
   "display_name": "Python 3",
   "language": "python",
   "name": "python3"
  },
  "language_info": {
   "codemirror_mode": {
    "name": "ipython",
    "version": 3
   },
   "file_extension": ".py",
   "mimetype": "text/x-python",
   "name": "python",
   "nbconvert_exporter": "python",
   "pygments_lexer": "ipython3",
   "version": "3.11.11"
  },
  "papermill": {
   "default_parameters": {},
   "duration": 15.500968,
   "end_time": "2025-07-02T12:00:53.038632",
   "environment_variables": {},
   "exception": null,
   "input_path": "__notebook__.ipynb",
   "output_path": "__notebook__.ipynb",
   "parameters": {},
   "start_time": "2025-07-02T12:00:37.537664",
   "version": "2.6.0"
  }
 },
 "nbformat": 4,
 "nbformat_minor": 5
}
